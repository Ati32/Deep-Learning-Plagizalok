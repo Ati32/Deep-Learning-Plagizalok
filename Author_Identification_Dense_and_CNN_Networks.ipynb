{
 "cells": [
  {
   "cell_type": "markdown",
   "metadata": {},
   "source": [
    "## Creating the Dense and CNN models for Author Identification\n",
    "\n",
    "**THIS NOTEBOOK ISN'T MEANT TO BE RUN.** It contains teaching of various Neural Networks for proof that we have done what we claim to have done.\n",
    "\n",
    "Firstly, we'll load in all the necessary packages:"
   ]
  },
  {
   "cell_type": "code",
   "execution_count": 1,
   "metadata": {
    "colab": {
     "base_uri": "https://localhost:8080/"
    },
    "executionInfo": {
     "elapsed": 9907,
     "status": "ok",
     "timestamp": 1605570066764,
     "user": {
      "displayName": "Dániel Pfeifer",
      "photoUrl": "",
      "userId": "16342510744691108345"
     },
     "user_tz": -60
    },
    "id": "K4cYv7iGL70K",
    "outputId": "f6311143-9cdf-4c7e-ce44-6aa608c93af3"
   },
   "outputs": [
    {
     "name": "stderr",
     "output_type": "stream",
     "text": [
      "Using TensorFlow backend.\n",
      "[nltk_data] Downloading package punkt to\n",
      "[nltk_data]     C:\\Users\\AMD\\AppData\\Roaming\\nltk_data...\n",
      "[nltk_data]   Package punkt is already up-to-date!\n",
      "[nltk_data] Downloading package stopwords to\n",
      "[nltk_data]     C:\\Users\\AMD\\AppData\\Roaming\\nltk_data...\n",
      "[nltk_data]   Package stopwords is already up-to-date!\n"
     ]
    }
   ],
   "source": [
    "import warnings\n",
    "warnings.filterwarnings('ignore')\n",
    "from numpy.random import seed\n",
    "seed(1)\n",
    "\n",
    "import numpy as np\n",
    "import pandas as pd\n",
    "import seaborn as sns\n",
    "import matplotlib.pyplot as plt\n",
    "from wordcloud import WordCloud, STOPWORDS\n",
    "from nltk.tokenize import sent_tokenize,word_tokenize\n",
    "from sklearn.model_selection import train_test_split\n",
    "from sklearn.metrics import accuracy_score, confusion_matrix\n",
    "import nltk\n",
    "from nltk.corpus import stopwords\n",
    "\n",
    "from gensim.test.utils import common_texts\n",
    "from gensim.models.doc2vec import Doc2Vec, TaggedDocument\n",
    "\n",
    "import tensorflow as tf\n",
    "from keras.models import Sequential, Model\n",
    "from keras.layers import Dense, Dropout\n",
    "from keras.layers import Conv1D, MaxPooling1D, GlobalMaxPooling1D\n",
    "from keras.layers import Conv2D, MaxPooling2D\n",
    "from tensorflow.keras import regularizers\n",
    "from tensorflow.keras.optimizers import Adam\n",
    "from tensorflow.keras.utils import plot_model\n",
    "from keras.callbacks import EarlyStopping\n",
    "\n",
    "from sklearn.preprocessing import StandardScaler\n",
    "\n",
    "import pickle\n",
    "\n",
    "nltk.download('punkt')\n",
    "nltk.download('stopwords')\n",
    "#np.random.seed(1)\n",
    "random_state = 7"
   ]
  },
  {
   "cell_type": "markdown",
   "metadata": {},
   "source": [
    "Then we'll load in the train and test datasets:"
   ]
  },
  {
   "cell_type": "code",
   "execution_count": 3,
   "metadata": {},
   "outputs": [],
   "source": [
    "train = pd.read_csv('train.csv')\n",
    "test = pd.read_csv('test.csv')"
   ]
  },
  {
   "cell_type": "code",
   "execution_count": 4,
   "metadata": {
    "colab": {
     "base_uri": "https://localhost:8080/",
     "height": 204
    },
    "executionInfo": {
     "elapsed": 9249,
     "status": "ok",
     "timestamp": 1605570066766,
     "user": {
      "displayName": "Dániel Pfeifer",
      "photoUrl": "",
      "userId": "16342510744691108345"
     },
     "user_tz": -60
    },
    "id": "GY_GOKilL_h7",
    "outputId": "63c68c26-fa78-4658-90a5-e789554a9e02"
   },
   "outputs": [
    {
     "data": {
      "text/html": [
       "<div>\n",
       "<style scoped>\n",
       "    .dataframe tbody tr th:only-of-type {\n",
       "        vertical-align: middle;\n",
       "    }\n",
       "\n",
       "    .dataframe tbody tr th {\n",
       "        vertical-align: top;\n",
       "    }\n",
       "\n",
       "    .dataframe thead th {\n",
       "        text-align: right;\n",
       "    }\n",
       "</style>\n",
       "<table border=\"1\" class=\"dataframe\">\n",
       "  <thead>\n",
       "    <tr style=\"text-align: right;\">\n",
       "      <th></th>\n",
       "      <th>id</th>\n",
       "      <th>text</th>\n",
       "      <th>author</th>\n",
       "    </tr>\n",
       "  </thead>\n",
       "  <tbody>\n",
       "    <tr>\n",
       "      <th>0</th>\n",
       "      <td>id26305</td>\n",
       "      <td>This process, however, afforded me no means of...</td>\n",
       "      <td>EAP</td>\n",
       "    </tr>\n",
       "    <tr>\n",
       "      <th>1</th>\n",
       "      <td>id17569</td>\n",
       "      <td>It never once occurred to me that the fumbling...</td>\n",
       "      <td>HPL</td>\n",
       "    </tr>\n",
       "    <tr>\n",
       "      <th>2</th>\n",
       "      <td>id11008</td>\n",
       "      <td>In his left hand was a gold snuff box, from wh...</td>\n",
       "      <td>EAP</td>\n",
       "    </tr>\n",
       "    <tr>\n",
       "      <th>3</th>\n",
       "      <td>id27763</td>\n",
       "      <td>How lovely is spring As we looked from Windsor...</td>\n",
       "      <td>MWS</td>\n",
       "    </tr>\n",
       "    <tr>\n",
       "      <th>4</th>\n",
       "      <td>id12958</td>\n",
       "      <td>Finding nothing else, not even gold, the Super...</td>\n",
       "      <td>HPL</td>\n",
       "    </tr>\n",
       "  </tbody>\n",
       "</table>\n",
       "</div>"
      ],
      "text/plain": [
       "        id                                               text author\n",
       "0  id26305  This process, however, afforded me no means of...    EAP\n",
       "1  id17569  It never once occurred to me that the fumbling...    HPL\n",
       "2  id11008  In his left hand was a gold snuff box, from wh...    EAP\n",
       "3  id27763  How lovely is spring As we looked from Windsor...    MWS\n",
       "4  id12958  Finding nothing else, not even gold, the Super...    HPL"
      ]
     },
     "execution_count": 4,
     "metadata": {},
     "output_type": "execute_result"
    }
   ],
   "source": [
    "train.head()"
   ]
  },
  {
   "cell_type": "code",
   "execution_count": 5,
   "metadata": {
    "colab": {
     "base_uri": "https://localhost:8080/",
     "height": 204
    },
    "executionInfo": {
     "elapsed": 9136,
     "status": "ok",
     "timestamp": 1605570066767,
     "user": {
      "displayName": "Dániel Pfeifer",
      "photoUrl": "",
      "userId": "16342510744691108345"
     },
     "user_tz": -60
    },
    "id": "D3Xp8ZVOMCht",
    "outputId": "e98dc0c4-cc58-4c69-9996-8d0f65b6c2da"
   },
   "outputs": [
    {
     "data": {
      "text/html": [
       "<div>\n",
       "<style scoped>\n",
       "    .dataframe tbody tr th:only-of-type {\n",
       "        vertical-align: middle;\n",
       "    }\n",
       "\n",
       "    .dataframe tbody tr th {\n",
       "        vertical-align: top;\n",
       "    }\n",
       "\n",
       "    .dataframe thead th {\n",
       "        text-align: right;\n",
       "    }\n",
       "</style>\n",
       "<table border=\"1\" class=\"dataframe\">\n",
       "  <thead>\n",
       "    <tr style=\"text-align: right;\">\n",
       "      <th></th>\n",
       "      <th>id</th>\n",
       "      <th>text</th>\n",
       "    </tr>\n",
       "  </thead>\n",
       "  <tbody>\n",
       "    <tr>\n",
       "      <th>0</th>\n",
       "      <td>id02310</td>\n",
       "      <td>Still, as I urged our leaving Ireland with suc...</td>\n",
       "    </tr>\n",
       "    <tr>\n",
       "      <th>1</th>\n",
       "      <td>id24541</td>\n",
       "      <td>If a fire wanted fanning, it could readily be ...</td>\n",
       "    </tr>\n",
       "    <tr>\n",
       "      <th>2</th>\n",
       "      <td>id00134</td>\n",
       "      <td>And when they had broken down the frail door t...</td>\n",
       "    </tr>\n",
       "    <tr>\n",
       "      <th>3</th>\n",
       "      <td>id27757</td>\n",
       "      <td>While I was thinking how I should possibly man...</td>\n",
       "    </tr>\n",
       "    <tr>\n",
       "      <th>4</th>\n",
       "      <td>id04081</td>\n",
       "      <td>I am not sure to what limit his knowledge may ...</td>\n",
       "    </tr>\n",
       "  </tbody>\n",
       "</table>\n",
       "</div>"
      ],
      "text/plain": [
       "        id                                               text\n",
       "0  id02310  Still, as I urged our leaving Ireland with suc...\n",
       "1  id24541  If a fire wanted fanning, it could readily be ...\n",
       "2  id00134  And when they had broken down the frail door t...\n",
       "3  id27757  While I was thinking how I should possibly man...\n",
       "4  id04081  I am not sure to what limit his knowledge may ..."
      ]
     },
     "execution_count": 5,
     "metadata": {},
     "output_type": "execute_result"
    }
   ],
   "source": [
    "test.head()"
   ]
  },
  {
   "cell_type": "markdown",
   "metadata": {},
   "source": [
    "Some simple statistics about each author:"
   ]
  },
  {
   "cell_type": "code",
   "execution_count": 6,
   "metadata": {
    "colab": {
     "base_uri": "https://localhost:8080/",
     "height": 173
    },
    "executionInfo": {
     "elapsed": 13195,
     "status": "ok",
     "timestamp": 1605570070949,
     "user": {
      "displayName": "Dániel Pfeifer",
      "photoUrl": "",
      "userId": "16342510744691108345"
     },
     "user_tz": -60
    },
    "id": "9wMnQrp5MOUi",
    "outputId": "48d90347-e98f-47ab-f55b-b81e2068e1c4"
   },
   "outputs": [
    {
     "data": {
      "text/html": [
       "<div>\n",
       "<style scoped>\n",
       "    .dataframe tbody tr th:only-of-type {\n",
       "        vertical-align: middle;\n",
       "    }\n",
       "\n",
       "    .dataframe tbody tr th {\n",
       "        vertical-align: top;\n",
       "    }\n",
       "\n",
       "    .dataframe thead th {\n",
       "        text-align: right;\n",
       "    }\n",
       "</style>\n",
       "<table border=\"1\" class=\"dataframe\">\n",
       "  <thead>\n",
       "    <tr style=\"text-align: right;\">\n",
       "      <th></th>\n",
       "      <th>sentences</th>\n",
       "      <th>words</th>\n",
       "      <th>text_length</th>\n",
       "    </tr>\n",
       "    <tr>\n",
       "      <th>author</th>\n",
       "      <th></th>\n",
       "      <th></th>\n",
       "      <th></th>\n",
       "    </tr>\n",
       "  </thead>\n",
       "  <tbody>\n",
       "    <tr>\n",
       "      <th>EAP</th>\n",
       "      <td>8206</td>\n",
       "      <td>232135</td>\n",
       "      <td>1123585</td>\n",
       "    </tr>\n",
       "    <tr>\n",
       "      <th>HPL</th>\n",
       "      <td>5876</td>\n",
       "      <td>174045</td>\n",
       "      <td>878178</td>\n",
       "    </tr>\n",
       "    <tr>\n",
       "      <th>MWS</th>\n",
       "      <td>6128</td>\n",
       "      <td>188827</td>\n",
       "      <td>916632</td>\n",
       "    </tr>\n",
       "  </tbody>\n",
       "</table>\n",
       "</div>"
      ],
      "text/plain": [
       "        sentences   words  text_length\n",
       "author                                \n",
       "EAP          8206  232135      1123585\n",
       "HPL          5876  174045       878178\n",
       "MWS          6128  188827       916632"
      ]
     },
     "execution_count": 6,
     "metadata": {},
     "output_type": "execute_result"
    }
   ],
   "source": [
    "train['sentences'] = train.text.transform(lambda x: len(sent_tokenize(x)))\n",
    "train['words'] = train.text.transform(lambda x: len(word_tokenize(x)))\n",
    "train['text_length'] = train.text.transform(lambda x: len(x))\n",
    "\n",
    "text_info = train.groupby(\"author\")[['sentences','words','text_length']].sum()\n",
    "text_info"
   ]
  },
  {
   "cell_type": "markdown",
   "metadata": {},
   "source": [
    "### Data manipulation\n",
    "\n",
    "In this part, we're applying multiple types of data transformations:\n",
    "- Encoding each author as 0, 1 or 2;\n",
    "- Tokenizing each sentence;\n",
    "- Removing stopwords;\n",
    "- Creating a validation set, since the *test* set didn't include actual labels."
   ]
  },
  {
   "cell_type": "code",
   "execution_count": 7,
   "metadata": {
    "executionInfo": {
     "elapsed": 13086,
     "status": "ok",
     "timestamp": 1605570070951,
     "user": {
      "displayName": "Dániel Pfeifer",
      "photoUrl": "",
      "userId": "16342510744691108345"
     },
     "user_tz": -60
    },
    "id": "A0pxgbPuMPqf"
   },
   "outputs": [],
   "source": [
    "stop_words = set(stopwords.words('english')).union(set([',','.','?','!',':',';',\"'\",'\"','-',\"''\",\"`\",\"``\"]))\n",
    "author_dict = {'EAP': 0, 'HPL': 1, 'MWS': 2}"
   ]
  },
  {
   "cell_type": "code",
   "execution_count": 8,
   "metadata": {
    "executionInfo": {
     "elapsed": 19259,
     "status": "ok",
     "timestamp": 1605570077225,
     "user": {
      "displayName": "Dániel Pfeifer",
      "photoUrl": "",
      "userId": "16342510744691108345"
     },
     "user_tz": -60
    },
    "id": "TQhh68p2MTOJ"
   },
   "outputs": [],
   "source": [
    "new_text = []\n",
    "new_author = []\n",
    "for i, row in train[['text','author']].iterrows():\n",
    "    word_tokens = word_tokenize(row['text'])\n",
    "    new_text.append(\" \".join([w for w in word_tokens if not w in stop_words]))\n",
    "    new_author.append(author_dict[row['author']])\n",
    "new_train = pd.DataFrame(data={'text': new_text, 'author': new_author})"
   ]
  },
  {
   "cell_type": "code",
   "execution_count": 9,
   "metadata": {
    "executionInfo": {
     "elapsed": 21918,
     "status": "ok",
     "timestamp": 1605570079987,
     "user": {
      "displayName": "Dániel Pfeifer",
      "photoUrl": "",
      "userId": "16342510744691108345"
     },
     "user_tz": -60
    },
    "id": "Fle-tbTTMTjO"
   },
   "outputs": [],
   "source": [
    "new_test_text = []\n",
    "for i, row in test[['text']].iterrows():\n",
    "    word_tokens = word_tokenize(row['text'])\n",
    "    new_test_text.append(\" \".join([w for w in word_tokens if not w in stop_words]))\n",
    "new_test = pd.DataFrame(data={'text': new_text})"
   ]
  },
  {
   "cell_type": "code",
   "execution_count": 10,
   "metadata": {
    "executionInfo": {
     "elapsed": 21822,
     "status": "ok",
     "timestamp": 1605570079992,
     "user": {
      "displayName": "Dániel Pfeifer",
      "photoUrl": "",
      "userId": "16342510744691108345"
     },
     "user_tz": -60
    },
    "id": "3ucX1DFgMWuJ"
   },
   "outputs": [],
   "source": [
    "X = new_train['text']\n",
    "y = new_train['author']\n",
    "X_train, X_valid, y_train, y_valid = train_test_split(X, y, test_size=0.3, random_state=random_state)\n",
    "X_test = new_test['text']"
   ]
  },
  {
   "cell_type": "code",
   "execution_count": 11,
   "metadata": {
    "executionInfo": {
     "elapsed": 27827,
     "status": "ok",
     "timestamp": 1605570086097,
     "user": {
      "displayName": "Dániel Pfeifer",
      "photoUrl": "",
      "userId": "16342510744691108345"
     },
     "user_tz": -60
    },
    "id": "kg4aCFDbMZTZ"
   },
   "outputs": [],
   "source": [
    "new_text_ws = [] # without stopwords\n",
    "for i, row in train[['text']].iterrows():\n",
    "    word_tokens = word_tokenize(row['text'])\n",
    "    new_text_ws.append(\" \".join([w for w in word_tokens if not w in [',','.','?','!',':',';',\"'\",'\"','-',\"''\",\"`\",\"``\"]]).lower())\n",
    "new_train_ws = pd.DataFrame(data={'text': new_text_ws, 'author': new_author})"
   ]
  },
  {
   "cell_type": "code",
   "execution_count": 12,
   "metadata": {
    "executionInfo": {
     "elapsed": 27732,
     "status": "ok",
     "timestamp": 1605570086110,
     "user": {
      "displayName": "Dániel Pfeifer",
      "photoUrl": "",
      "userId": "16342510744691108345"
     },
     "user_tz": -60
    },
    "id": "Mgp47saTMa3W"
   },
   "outputs": [],
   "source": [
    "X_ws = new_train_ws['text']\n",
    "y_ws = new_train_ws['author']\n",
    "X_ws_train, X_ws_valid, y_ws_train, y_ws_valid = train_test_split(X_ws, y_ws, test_size=0.3, random_state=random_state)"
   ]
  },
  {
   "cell_type": "code",
   "execution_count": 13,
   "metadata": {
    "colab": {
     "base_uri": "https://localhost:8080/"
    },
    "executionInfo": {
     "elapsed": 27627,
     "status": "ok",
     "timestamp": 1605570086112,
     "user": {
      "displayName": "Dániel Pfeifer",
      "photoUrl": "",
      "userId": "16342510744691108345"
     },
     "user_tz": -60
    },
    "id": "ownxaroKMs8i",
    "outputId": "8ca79221-6175-471a-88a1-9707bf342f94"
   },
   "outputs": [
    {
     "data": {
      "text/plain": [
       "0    this process however afforded me no means of a...\n",
       "1    it never once occurred to me that the fumbling...\n",
       "2    in his left hand was a gold snuff box from whi...\n",
       "3    how lovely is spring as we looked from windsor...\n",
       "4    finding nothing else not even gold the superin...\n",
       "Name: text, dtype: object"
      ]
     },
     "execution_count": 13,
     "metadata": {},
     "output_type": "execute_result"
    }
   ],
   "source": [
    "X_ws.head()"
   ]
  },
  {
   "cell_type": "code",
   "execution_count": 14,
   "metadata": {
    "colab": {
     "base_uri": "https://localhost:8080/",
     "height": 419
    },
    "executionInfo": {
     "elapsed": 27517,
     "status": "ok",
     "timestamp": 1605570086113,
     "user": {
      "displayName": "Dániel Pfeifer",
      "photoUrl": "",
      "userId": "16342510744691108345"
     },
     "user_tz": -60
    },
    "id": "L6FXF4iuMdT0",
    "outputId": "1ab30fd5-ef91-4972-ef6e-8e50c8babb82"
   },
   "outputs": [
    {
     "data": {
      "text/html": [
       "<div>\n",
       "<style scoped>\n",
       "    .dataframe tbody tr th:only-of-type {\n",
       "        vertical-align: middle;\n",
       "    }\n",
       "\n",
       "    .dataframe tbody tr th {\n",
       "        vertical-align: top;\n",
       "    }\n",
       "\n",
       "    .dataframe thead th {\n",
       "        text-align: right;\n",
       "    }\n",
       "</style>\n",
       "<table border=\"1\" class=\"dataframe\">\n",
       "  <thead>\n",
       "    <tr style=\"text-align: right;\">\n",
       "      <th></th>\n",
       "      <th>text</th>\n",
       "      <th>author</th>\n",
       "    </tr>\n",
       "  </thead>\n",
       "  <tbody>\n",
       "    <tr>\n",
       "      <th>0</th>\n",
       "      <td>This process however afforded means ascertaini...</td>\n",
       "      <td>0</td>\n",
       "    </tr>\n",
       "    <tr>\n",
       "      <th>1</th>\n",
       "      <td>It never occurred fumbling might mere mistake</td>\n",
       "      <td>1</td>\n",
       "    </tr>\n",
       "    <tr>\n",
       "      <th>2</th>\n",
       "      <td>In left hand gold snuff box capered hill cutti...</td>\n",
       "      <td>0</td>\n",
       "    </tr>\n",
       "    <tr>\n",
       "      <th>3</th>\n",
       "      <td>How lovely spring As looked Windsor Terrace si...</td>\n",
       "      <td>2</td>\n",
       "    </tr>\n",
       "    <tr>\n",
       "      <th>4</th>\n",
       "      <td>Finding nothing else even gold Superintendent ...</td>\n",
       "      <td>1</td>\n",
       "    </tr>\n",
       "    <tr>\n",
       "      <th>...</th>\n",
       "      <td>...</td>\n",
       "      <td>...</td>\n",
       "    </tr>\n",
       "    <tr>\n",
       "      <th>19574</th>\n",
       "      <td>I could fancied I looked eminent landscape pai...</td>\n",
       "      <td>0</td>\n",
       "    </tr>\n",
       "    <tr>\n",
       "      <th>19575</th>\n",
       "      <td>The lids clenched together spasm</td>\n",
       "      <td>0</td>\n",
       "    </tr>\n",
       "    <tr>\n",
       "      <th>19576</th>\n",
       "      <td>Mais il faut agir say Frenchman never faints o...</td>\n",
       "      <td>0</td>\n",
       "    </tr>\n",
       "    <tr>\n",
       "      <th>19577</th>\n",
       "      <td>For item news like strikes us coolly received</td>\n",
       "      <td>0</td>\n",
       "    </tr>\n",
       "    <tr>\n",
       "      <th>19578</th>\n",
       "      <td>He laid gnarled claw shoulder seemed shaking a...</td>\n",
       "      <td>1</td>\n",
       "    </tr>\n",
       "  </tbody>\n",
       "</table>\n",
       "<p>19579 rows × 2 columns</p>\n",
       "</div>"
      ],
      "text/plain": [
       "                                                    text  author\n",
       "0      This process however afforded means ascertaini...       0\n",
       "1          It never occurred fumbling might mere mistake       1\n",
       "2      In left hand gold snuff box capered hill cutti...       0\n",
       "3      How lovely spring As looked Windsor Terrace si...       2\n",
       "4      Finding nothing else even gold Superintendent ...       1\n",
       "...                                                  ...     ...\n",
       "19574  I could fancied I looked eminent landscape pai...       0\n",
       "19575                   The lids clenched together spasm       0\n",
       "19576  Mais il faut agir say Frenchman never faints o...       0\n",
       "19577      For item news like strikes us coolly received       0\n",
       "19578  He laid gnarled claw shoulder seemed shaking a...       1\n",
       "\n",
       "[19579 rows x 2 columns]"
      ]
     },
     "execution_count": 14,
     "metadata": {},
     "output_type": "execute_result"
    }
   ],
   "source": [
    "new_train"
   ]
  },
  {
   "cell_type": "code",
   "execution_count": 15,
   "metadata": {
    "executionInfo": {
     "elapsed": 27413,
     "status": "ok",
     "timestamp": 1605570086115,
     "user": {
      "displayName": "Dániel Pfeifer",
      "photoUrl": "",
      "userId": "16342510744691108345"
     },
     "user_tz": -60
    },
    "id": "MJlYcslBMeph"
   },
   "outputs": [],
   "source": [
    "X_train_list = list(X_train)\n",
    "y_train_list = list(y_train)\n",
    "X_valid_list = list(X_valid)\n",
    "y_valid_list = list(y_valid)"
   ]
  },
  {
   "cell_type": "code",
   "execution_count": 16,
   "metadata": {
    "executionInfo": {
     "elapsed": 27310,
     "status": "ok",
     "timestamp": 1605570086118,
     "user": {
      "displayName": "Dániel Pfeifer",
      "photoUrl": "",
      "userId": "16342510744691108345"
     },
     "user_tz": -60
    },
    "id": "XvRBrwnhMm9P"
   },
   "outputs": [],
   "source": [
    "X_ws_train_list = list(X_ws_train)\n",
    "y_ws_train_list = list(y_ws_train)\n",
    "X_ws_valid_list = list(X_ws_valid)\n",
    "y_ws_valid_list = list(y_ws_valid)"
   ]
  },
  {
   "cell_type": "code",
   "execution_count": 17,
   "metadata": {
    "executionInfo": {
     "elapsed": 27210,
     "status": "ok",
     "timestamp": 1605570086124,
     "user": {
      "displayName": "Dániel Pfeifer",
      "photoUrl": "",
      "userId": "16342510744691108345"
     },
     "user_tz": -60
    },
    "id": "eNXyvrKHXl8t"
   },
   "outputs": [],
   "source": [
    "y_ws_train_list = np.array(y_ws_train_list)\n",
    "y_ws_valid_list = np.array(y_ws_valid_list)"
   ]
  },
  {
   "cell_type": "code",
   "execution_count": 18,
   "metadata": {
    "colab": {
     "base_uri": "https://localhost:8080/"
    },
    "executionInfo": {
     "elapsed": 27121,
     "status": "ok",
     "timestamp": 1605570086126,
     "user": {
      "displayName": "Dániel Pfeifer",
      "photoUrl": "",
      "userId": "16342510744691108345"
     },
     "user_tz": -60
    },
    "id": "SN1V7uT_RbQr",
    "outputId": "eabc9428-e4c5-4b5f-dd38-7442ee856a45"
   },
   "outputs": [
    {
     "data": {
      "text/plain": [
       "array([0, 0, 1, 0, 0, 0, 0, 0, 2, 2, 2, 2, 2, 2, 2, 1, 2, 1, 2, 1, 2, 1,\n",
       "       0, 0, 1, 0, 0, 0, 0, 0, 0, 2, 1, 1, 0, 1, 0, 1, 2, 0, 1, 1, 2, 0,\n",
       "       0, 1, 2, 2, 2, 0])"
      ]
     },
     "execution_count": 18,
     "metadata": {},
     "output_type": "execute_result"
    }
   ],
   "source": [
    "y_ws_train_list[:50]"
   ]
  },
  {
   "cell_type": "markdown",
   "metadata": {
    "id": "0IV42qsrRpoA"
   },
   "source": [
    "### Defining the doc2vec model"
   ]
  },
  {
   "cell_type": "code",
   "execution_count": 19,
   "metadata": {
    "colab": {
     "base_uri": "https://localhost:8080/"
    },
    "executionInfo": {
     "elapsed": 26935,
     "status": "ok",
     "timestamp": 1605570086128,
     "user": {
      "displayName": "Dániel Pfeifer",
      "photoUrl": "",
      "userId": "16342510744691108345"
     },
     "user_tz": -60
    },
    "id": "0Oo_uCW57Vvb",
    "outputId": "879dcded-3520-4d41-ecf7-ebd2568f3b15"
   },
   "outputs": [
    {
     "name": "stdout",
     "output_type": "stream",
     "text": [
      "['human', 'interface', 'computer'] [0]\n",
      "['survey', 'user', 'computer', 'system', 'response', 'time'] [1]\n",
      "['eps', 'user', 'interface', 'system'] [2]\n",
      "['system', 'human', 'system', 'eps'] [3]\n",
      "['user', 'response', 'time'] [4]\n",
      "['trees'] [5]\n",
      "['graph', 'trees'] [6]\n",
      "['graph', 'minors', 'trees'] [7]\n",
      "['graph', 'minors', 'survey'] [8]\n"
     ]
    }
   ],
   "source": [
    "for i, doc in enumerate(common_texts):\n",
    "    print(doc, [i])"
   ]
  },
  {
   "cell_type": "code",
   "execution_count": 20,
   "metadata": {
    "colab": {
     "base_uri": "https://localhost:8080/"
    },
    "executionInfo": {
     "elapsed": 26829,
     "status": "ok",
     "timestamp": 1605570086129,
     "user": {
      "displayName": "Dániel Pfeifer",
      "photoUrl": "",
      "userId": "16342510744691108345"
     },
     "user_tz": -60
    },
    "id": "3c4gv1Z95_Uc",
    "outputId": "34480a68-89b2-48eb-e9a9-ec42bfa4b876"
   },
   "outputs": [
    {
     "name": "stdout",
     "output_type": "stream",
     "text": [
      "['should', 'any', 'one', 'wish', 'to', 'purchase', 'or', 'to', 'inquire', 'the', 'price', 'of', 'an', 'article', 'a', 'bell', 'is', 'at', 'hand', 'and', 'this', 'is', 'considered', 'amply', 'sufficient'] 0\n",
      "['he', 'said', 'that', 'some', 'person', 'apparently', 'in', 'great', 'haste', 'demanded', 'to', 'speak', 'with', 'me', 'in', 'the', 'hall'] 1\n",
      "['but', 'still', 'there', 'remained', 'that', 'burning', 'determination', 'to', 'reach', 'the', 'innermost', 'secret', 'of', 'the', 'fear', 'which', 'i', 'had', 'once', 'more', 'come', 'to', 'deem', 'definite', 'material', 'and', 'organic'] 2\n",
      "['a', 'letter', 'may', 'be', 'compressed', 'into', 'a', 'thin', 'spiral', 'roll', 'not', 'differing', 'much', 'in', 'shape', 'or', 'bulk', 'from', 'a', 'large', 'knitting', 'needle', 'and', 'in', 'this', 'form', 'it', 'might', 'be', 'inserted', 'into', 'the', 'rung', 'of', 'a', 'chair', 'for', 'example'] 3\n",
      "['he', 'discoursed', 'much', 'and', 'beyond', 'doubt', 'learnedly', 'while', 'i', 'hazarded', 'an', 'occasional', 'suggestion', 'as', 'the', 'night', 'wore', 'drowsily', 'away'] 4\n",
      "['not', 'even', 'the', 'outlines', 'of', 'continents', 'and', 'seas', 'could', 'now', 'be', 'traced', 'upon', 'the', 'earth', 'with', 'anything', 'approaching', 'distinctness'] 5\n",
      "['the', 'paste', 'thus', 'arising', 'was', 'called', 'papyrus', 'in', 'its', 'primary', 'state', 'and', 'went', 'through', 'a', 'variety', 'of', 'processes', 'until', 'it', 'finally', 'became', 'silk'] 6\n",
      "['his', 'name', 'is', 'a', 'derivation', 'of', 'the', 'greek', 'simia', 'what', 'great', 'fools', 'are', 'antiquarians', 'but', 'see', 'see', 'yonder', 'scampers', 'a', 'ragged', 'little', 'urchin'] 7\n",
      "['with', 'an', 'heavy', 'heart', 'i', 'entered', 'the', 'palace', 'and', 'stood', 'fearful', 'to', 'advance', 'to', 'speak', 'to', 'look'] 8\n",
      "['ay', 'ay', 'continued', 'he', 'observing', 'my', 'face', 'expressive', 'of', 'suffering', 'm'] 9\n"
     ]
    }
   ],
   "source": [
    "for i, doc in enumerate(X_ws_train_list[:10]):\n",
    "    print(doc.split(), i)"
   ]
  },
  {
   "cell_type": "code",
   "execution_count": 21,
   "metadata": {
    "colab": {
     "base_uri": "https://localhost:8080/",
     "height": 35
    },
    "executionInfo": {
     "elapsed": 26731,
     "status": "ok",
     "timestamp": 1605570086130,
     "user": {
      "displayName": "Dániel Pfeifer",
      "photoUrl": "",
      "userId": "16342510744691108345"
     },
     "user_tz": -60
    },
    "id": "Tfu8pugN7OfS",
    "outputId": "742c789d-aea6-4b6d-8256-c3f4c3d1b5d7"
   },
   "outputs": [
    {
     "data": {
      "text/plain": [
       "'should'"
      ]
     },
     "execution_count": 21,
     "metadata": {},
     "output_type": "execute_result"
    }
   ],
   "source": [
    "X_ws_train_list[0].split()[0]"
   ]
  },
  {
   "cell_type": "markdown",
   "metadata": {
    "id": "1UIHE1aSM4sU"
   },
   "source": [
    "### Pre-trained fastText vectors"
   ]
  },
  {
   "cell_type": "markdown",
   "metadata": {},
   "source": [
    "Similarly to the Evaluation Notebook, we need to download the FastText vectors provided by Gensim, however, we have already saved these into a separate file and it's much faster to load that way."
   ]
  },
  {
   "cell_type": "code",
   "execution_count": 22,
   "metadata": {
    "executionInfo": {
     "elapsed": 26556,
     "status": "ok",
     "timestamp": 1605570086131,
     "user": {
      "displayName": "Dániel Pfeifer",
      "photoUrl": "",
      "userId": "16342510744691108345"
     },
     "user_tz": -60
    },
    "id": "g5CFqqwPGiMR"
   },
   "outputs": [],
   "source": [
    "# import gensim.downloader"
   ]
  },
  {
   "cell_type": "code",
   "execution_count": 23,
   "metadata": {
    "id": "HBFIUHRMH50c"
   },
   "outputs": [],
   "source": [
    "# fasttext_vectors = gensim.downloader.load('fasttext-wiki-news-subwords-300')"
   ]
  },
  {
   "cell_type": "code",
   "execution_count": 24,
   "metadata": {},
   "outputs": [],
   "source": [
    "#with open('fasttext_vectors.pickle', 'wb') as f:\n",
    "#    pickle.dump(fasttext_vectors, f)"
   ]
  },
  {
   "cell_type": "code",
   "execution_count": 25,
   "metadata": {},
   "outputs": [],
   "source": [
    "with open(\"fasttext_vectors.pickle\", 'rb') as f:\n",
    "    fasttext_vectors = pickle.load(f)"
   ]
  },
  {
   "cell_type": "code",
   "execution_count": 26,
   "metadata": {
    "id": "bnYFF947MWoq",
    "scrolled": true
   },
   "outputs": [
    {
     "name": "stderr",
     "output_type": "stream",
     "text": [
      "C:\\Users\\AMD\\anaconda3\\lib\\site-packages\\ipykernel_launcher.py:1: DeprecationWarning: Call to deprecated `wv` (Attribute will be removed in 4.0.0, use self instead).\n",
      "  \"\"\"Entry point for launching an IPython kernel.\n"
     ]
    },
    {
     "data": {
      "text/plain": [
       "array([-1.0834e-02, -5.6953e-02, -3.1731e-02,  2.6749e-02,  4.7278e-02,\n",
       "        4.2279e-03,  8.8756e-03, -8.3149e-02, -5.7365e-02, -4.3851e-02,\n",
       "        1.0353e-02,  9.5677e-03,  1.5618e-02, -5.1344e-03,  2.6610e-02,\n",
       "       -2.0032e-03,  1.2627e-01, -3.4053e-02,  7.2836e-02, -2.9336e-02,\n",
       "        1.2728e-02, -5.9716e-02,  4.7661e-02,  8.5972e-02, -3.9190e-02,\n",
       "       -7.3656e-03, -1.8250e-02,  2.8804e-02, -1.9875e-02, -2.4632e-02,\n",
       "       -3.5466e-02, -2.4895e-02,  4.0472e-02,  6.5614e-02,  2.6882e-02,\n",
       "       -8.2732e-02, -9.4424e-03, -2.4687e-02, -4.3293e-02,  1.7315e-02,\n",
       "       -5.1753e-02, -1.6385e-02, -1.0530e-02, -1.6188e-02, -3.0672e-02,\n",
       "       -1.8272e-03, -9.3336e-03, -1.5161e-02,  1.1667e-01, -4.2138e-04,\n",
       "        9.3487e-03, -1.1487e-02, -5.4632e-02, -3.8202e-03, -2.2158e-01,\n",
       "        3.0325e-02,  1.5373e-02,  1.8478e-02, -9.8686e-02, -2.1137e-02,\n",
       "       -1.9092e-02,  1.4057e-02,  1.1103e-01, -2.9714e-02,  4.2807e-02,\n",
       "       -5.1898e-02, -9.7448e-03,  5.6202e-03,  1.5102e-02, -7.2404e-03,\n",
       "        3.9171e-02,  1.0289e-02,  4.9326e-02,  1.1656e-02,  4.3001e-03,\n",
       "       -2.0964e-02, -9.6965e-04, -3.0335e-02,  1.7158e-02,  1.3094e-02,\n",
       "       -4.4167e-02, -7.6330e-03,  2.9762e-02,  1.1258e-01, -4.0120e-02,\n",
       "        3.0029e-02, -2.1949e-02, -2.3894e-02, -3.5168e-02, -1.1499e-02,\n",
       "       -6.6191e-04,  2.9201e-02, -1.0007e-01, -9.1173e-02, -1.1285e-03,\n",
       "       -1.3268e-01, -3.3043e-03, -1.5236e-02, -3.5123e-02,  7.6343e-03,\n",
       "       -3.7059e-02,  2.9431e-03,  2.1348e-02,  2.3537e-03, -4.4561e-02,\n",
       "       -1.4729e-01,  2.7512e-02, -1.1234e-02, -5.5819e-02,  9.8550e-03,\n",
       "        3.4848e-02,  3.5293e-02,  9.8350e-02, -1.9936e-02,  1.9386e-02,\n",
       "       -2.8615e-02, -5.6914e-02,  1.3041e-02, -4.6577e-02,  3.6647e-03,\n",
       "        2.2871e-02, -1.0483e-04,  2.7398e-02, -3.5257e-02,  1.4650e-01,\n",
       "        2.5242e-02, -2.7383e-02, -7.2460e-02, -2.6145e-02,  7.7218e-02,\n",
       "       -1.6321e-02,  6.9845e-03,  1.8923e-02,  4.8347e-02, -6.8252e-02,\n",
       "       -6.5429e-03, -7.0570e-03,  5.6821e-02,  2.5264e-02,  3.5293e-02,\n",
       "        6.5210e-02,  6.7222e-03,  6.4567e-03, -5.5488e-02, -2.7910e-03,\n",
       "       -3.5506e-02,  2.0187e-03,  3.0863e-02, -1.7434e-02,  9.2920e-04,\n",
       "        2.3455e-02,  3.1864e-01, -7.8487e-03, -2.4837e-02,  2.6826e-02,\n",
       "       -2.2413e-02, -2.1342e-02, -2.0674e-02,  1.7606e-02, -1.1007e-01,\n",
       "       -3.0006e-02, -3.3186e-02, -6.1290e-02, -1.7485e-02,  1.5942e-02,\n",
       "       -1.2365e-02,  4.2901e-02, -3.6073e-02,  1.0488e-02,  1.6548e-02,\n",
       "        6.1739e-02, -2.4920e-03,  2.2686e-02, -2.7271e-02,  1.1472e-02,\n",
       "        4.4086e-02, -5.8902e-02,  3.8381e-02,  7.8743e-03,  2.4328e-02,\n",
       "        8.0301e-02,  7.4401e-03, -4.0273e-03,  7.6110e-03,  1.2661e-02,\n",
       "        1.2550e-02,  3.5513e-02,  1.5540e-01, -1.8340e-02,  1.5882e-02,\n",
       "       -8.2935e-03,  2.2966e-01, -1.5243e-01,  1.0406e-02, -3.3330e-02,\n",
       "       -2.2502e-03,  2.4363e-02, -4.7575e-02, -5.5848e-02,  4.6623e-02,\n",
       "       -1.2269e-01,  3.4780e-02,  1.4188e-02,  1.2728e-02, -1.8428e-02,\n",
       "       -4.0353e-02, -2.5896e-02, -2.6679e-03, -4.1411e-02, -1.6941e-01,\n",
       "       -6.6342e-02, -8.0349e-03,  7.2398e-02,  1.3982e-02, -7.1053e-02,\n",
       "       -2.8928e-02, -5.1883e-03, -3.7959e-03,  3.4962e-02, -2.8479e-02,\n",
       "        1.7214e-02, -4.0714e-02, -1.7691e-04,  1.0835e-01, -8.8199e-03,\n",
       "       -1.7168e-03, -2.5204e-02,  7.2845e-02, -5.3177e-03,  1.5578e-03,\n",
       "        1.3101e-02, -1.2352e-01, -3.4532e-02, -9.9064e-03,  4.2388e-02,\n",
       "       -1.6496e-02, -1.4077e-02,  4.2411e-03, -3.8618e-02, -2.1421e-02,\n",
       "        1.7403e-01,  1.0076e-02, -2.2383e-02,  2.1356e-02, -4.1588e-02,\n",
       "       -4.1423e-02,  2.5243e-02, -2.5722e-02, -8.3506e-03, -1.3269e-01,\n",
       "        2.4443e-02,  4.5471e-02, -1.4763e-02,  1.6587e-02,  5.6522e-03,\n",
       "       -5.4695e-02,  1.4901e-02,  2.2947e-02, -5.1056e-02,  2.3629e-02,\n",
       "       -6.4547e-02,  2.4571e-02,  4.1620e-05, -6.4216e-02, -2.1692e-02,\n",
       "        3.1583e-02, -2.9974e-02,  6.9873e-03, -9.9810e-03,  5.5824e-02,\n",
       "        2.1709e-02,  1.0144e-01, -1.5837e-01, -4.0652e-02,  2.3030e-02,\n",
       "        4.2035e-02, -4.3129e-03, -5.5642e-02, -7.0369e-03, -1.8785e-02,\n",
       "       -1.7460e-01, -1.0816e-02,  3.0704e-02, -4.5016e-02,  7.5299e-02,\n",
       "        2.2863e-03, -2.3293e-03,  4.2381e-02, -1.8511e-02, -1.1230e-02,\n",
       "        2.2312e-02, -1.2819e-02, -1.4592e-02, -1.3279e-02, -1.7753e-02,\n",
       "       -3.0646e-02, -1.6548e-02,  3.2178e-02, -4.9309e-02,  3.2872e-02],\n",
       "      dtype=float32)"
      ]
     },
     "execution_count": 26,
     "metadata": {},
     "output_type": "execute_result"
    }
   ],
   "source": [
    "np.array(fasttext_vectors.wv[X_ws_train_list[0].split()[0]])"
   ]
  },
  {
   "cell_type": "markdown",
   "metadata": {},
   "source": [
    "### Unifying sentence length and creating average vectors"
   ]
  },
  {
   "cell_type": "code",
   "execution_count": 27,
   "metadata": {
    "id": "rXHEQpFmM2_V"
   },
   "outputs": [
    {
     "name": "stderr",
     "output_type": "stream",
     "text": [
      "C:\\Users\\AMD\\anaconda3\\lib\\site-packages\\ipykernel_launcher.py:6: DeprecationWarning: Call to deprecated `wv` (Attribute will be removed in 4.0.0, use self instead).\n",
      "  \n"
     ]
    }
   ],
   "source": [
    "X_ws_train_ft_mean_vectors = np.empty([len(X_ws_train_list), 300])\n",
    "for j in range(len(X_ws_train_list)):\n",
    "    X_ws_train_ft_vectors = np.empty([len(X_ws_train_list[j].split()), 300])\n",
    "    for i in range(len(X_ws_train_list[j].split())):\n",
    "        try:\n",
    "            X_ws_train_ft_vectors[i] = fasttext_vectors.wv[X_ws_train_list[j].split()[i]]\n",
    "        except KeyError:\n",
    "            X_ws_train_ft_vectors[i] = np.zeros(300)\n",
    "    X_ws_train_ft_mean_vectors[j] = np.mean(X_ws_train_ft_vectors, axis=0)"
   ]
  },
  {
   "cell_type": "code",
   "execution_count": 28,
   "metadata": {
    "id": "83m7OK6kS_eB"
   },
   "outputs": [],
   "source": [
    "scaler = StandardScaler()\n",
    "X_ws_train_ft_mean_vectors = scaler.fit_transform(X_ws_train_ft_mean_vectors)"
   ]
  },
  {
   "cell_type": "code",
   "execution_count": 29,
   "metadata": {
    "id": "vSNh6pu2SgWU"
   },
   "outputs": [
    {
     "name": "stderr",
     "output_type": "stream",
     "text": [
      "C:\\Users\\AMD\\anaconda3\\lib\\site-packages\\ipykernel_launcher.py:6: DeprecationWarning: Call to deprecated `wv` (Attribute will be removed in 4.0.0, use self instead).\n",
      "  \n"
     ]
    }
   ],
   "source": [
    "X_ws_valid_ft_mean_vectors = np.empty([len(X_ws_valid_list), 300])\n",
    "for j in range(len(X_ws_valid_list)):\n",
    "    X_ws_valid_ft_vectors = np.empty([len(X_ws_valid_list[j].split()), 300])\n",
    "    for i in range(len(X_ws_valid_list[j].split())):\n",
    "        try:\n",
    "            X_ws_valid_ft_vectors[i] = fasttext_vectors.wv[X_ws_valid_list[j].split()[i]]\n",
    "        except KeyError:\n",
    "            X_ws_valid_ft_vectors[i] = np.zeros(300)\n",
    "    X_ws_valid_ft_mean_vectors[j] = np.mean(X_ws_valid_ft_vectors, axis=0)"
   ]
  },
  {
   "cell_type": "code",
   "execution_count": 30,
   "metadata": {
    "id": "_vUU--suTAjR"
   },
   "outputs": [],
   "source": [
    "scaler = StandardScaler()\n",
    "X_ws_valid_ft_mean_vectors = scaler.fit_transform(X_ws_valid_ft_mean_vectors)"
   ]
  },
  {
   "cell_type": "code",
   "execution_count": 31,
   "metadata": {
    "id": "Mlvv28RK7w7F"
   },
   "outputs": [
    {
     "data": {
      "text/plain": [
       "13705"
      ]
     },
     "execution_count": 31,
     "metadata": {},
     "output_type": "execute_result"
    }
   ],
   "source": [
    "len(X_ws_train_list)"
   ]
  },
  {
   "cell_type": "code",
   "execution_count": 32,
   "metadata": {
    "id": "FJ9mHP5rQWAK"
   },
   "outputs": [],
   "source": [
    "documents = [TaggedDocument(doc.split(), [i]) for i, doc in enumerate(X_ws_train_list)]\n",
    "model = Doc2Vec(documents, vector_size=100, window=2, min_count=1, workers=4)"
   ]
  },
  {
   "cell_type": "code",
   "execution_count": 34,
   "metadata": {
    "id": "gdBcZsAoQu5T"
   },
   "outputs": [
    {
     "data": {
      "text/plain": [
       "array([-2.9918887e-03, -3.8555879e-03, -2.5199535e-03,  7.2088485e-05,\n",
       "        3.8668111e-03,  3.8766544e-03, -1.0412795e-03, -3.0497813e-03,\n",
       "       -3.2655792e-03,  1.9558675e-03,  4.9269721e-03, -6.2503917e-05,\n",
       "        1.7103464e-03, -4.2067157e-04,  1.4984971e-03,  1.2264730e-03,\n",
       "        2.0480684e-03, -4.4938531e-03,  4.7159181e-03,  2.2558835e-03,\n",
       "        4.2556333e-03, -4.0373835e-04,  1.8219735e-03,  3.9789118e-03,\n",
       "       -2.3151303e-03, -1.2586162e-03, -3.2142217e-03,  4.8896349e-03,\n",
       "        2.6925153e-03, -8.9307071e-04,  2.3907372e-03, -2.7142793e-03,\n",
       "       -3.8408348e-03,  4.6895890e-05, -3.1993315e-03,  4.6548210e-03,\n",
       "       -2.3301060e-03,  4.3738412e-04, -3.5655946e-03,  3.0774908e-04,\n",
       "        3.4242175e-03, -1.8653512e-03,  1.3168417e-03, -2.5733355e-03,\n",
       "       -1.0467713e-03,  2.9610416e-03, -4.6788943e-03,  1.9721668e-03,\n",
       "        3.0607267e-03, -2.8135886e-03, -3.9678463e-03,  2.5376235e-03,\n",
       "       -1.3786314e-04,  4.3326560e-03,  3.4382606e-03,  1.6738891e-03,\n",
       "        2.7472610e-03, -3.5280036e-03,  4.6299403e-05, -1.7733218e-03,\n",
       "        2.7778810e-03, -1.0366580e-03, -4.0476699e-03, -2.4613161e-03,\n",
       "       -7.8267080e-04,  2.4071098e-03, -4.0163323e-03,  3.4823648e-03,\n",
       "        2.9604672e-03,  9.7157189e-04, -2.1138869e-03, -1.7317887e-03,\n",
       "        4.2832340e-03, -1.0656343e-03,  4.2753960e-03,  1.5734232e-03,\n",
       "        3.8795194e-03,  3.8709992e-04,  6.1073712e-05,  4.6229605e-03,\n",
       "        3.3900610e-03,  1.5699551e-03, -1.6648662e-03,  4.0911027e-04,\n",
       "        2.5167763e-03, -3.8050539e-03, -6.5508072e-04, -4.8237896e-04,\n",
       "       -4.4514104e-03,  4.1332101e-03,  3.4470689e-03,  4.3262378e-03,\n",
       "        5.0385366e-04, -1.5775426e-03,  1.0524529e-03,  9.0653193e-05,\n",
       "        3.7388133e-03, -2.6790316e-03,  4.5702909e-03, -1.8759584e-03],\n",
       "      dtype=float32)"
      ]
     },
     "execution_count": 34,
     "metadata": {},
     "output_type": "execute_result"
    }
   ],
   "source": [
    "model.infer_vector([X_ws_train_list[0]])"
   ]
  },
  {
   "cell_type": "markdown",
   "metadata": {
    "id": "RfgpkkKURiBe"
   },
   "source": [
    "### Using word2vec and scaling the data with a Standard Scaler"
   ]
  },
  {
   "cell_type": "code",
   "execution_count": 35,
   "metadata": {
    "executionInfo": {
     "elapsed": 312296,
     "status": "ok",
     "timestamp": 1605555630949,
     "user": {
      "displayName": "Dániel Pfeifer",
      "photoUrl": "",
      "userId": "16342510744691108345"
     },
     "user_tz": -60
    },
    "id": "brBmCnTmQ5IV"
   },
   "outputs": [],
   "source": [
    "X_ws_train_vectors = np.empty([len(X_ws_train_list), 100])\n",
    "for i in range(len(X_ws_train_list)):\n",
    "    X_ws_train_vectors[i] = model.infer_vector([X_ws_train_list[i]])"
   ]
  },
  {
   "cell_type": "code",
   "execution_count": 36,
   "metadata": {
    "executionInfo": {
     "elapsed": 319060,
     "status": "ok",
     "timestamp": 1605555638104,
     "user": {
      "displayName": "Dániel Pfeifer",
      "photoUrl": "",
      "userId": "16342510744691108345"
     },
     "user_tz": -60
    },
    "id": "SCAk5QB9SD4Q"
   },
   "outputs": [],
   "source": [
    "X_ws_valid_vectors = np.empty([len(X_ws_valid_list), 100])\n",
    "for i in range(len(X_ws_valid_list)):\n",
    "    X_ws_valid_vectors[i] = model.infer_vector([X_ws_valid_list[i]])"
   ]
  },
  {
   "cell_type": "code",
   "execution_count": 37,
   "metadata": {
    "executionInfo": {
     "elapsed": 318870,
     "status": "ok",
     "timestamp": 1605555638110,
     "user": {
      "displayName": "Dániel Pfeifer",
      "photoUrl": "",
      "userId": "16342510744691108345"
     },
     "user_tz": -60
    },
    "id": "gB7rdnFJ9LVx"
   },
   "outputs": [],
   "source": [
    "scaler = StandardScaler()\n",
    "X_ws_train_vectors = scaler.fit_transform(X_ws_train_vectors)"
   ]
  },
  {
   "cell_type": "code",
   "execution_count": 38,
   "metadata": {
    "executionInfo": {
     "elapsed": 318674,
     "status": "ok",
     "timestamp": 1605555638110,
     "user": {
      "displayName": "Dániel Pfeifer",
      "photoUrl": "",
      "userId": "16342510744691108345"
     },
     "user_tz": -60
    },
    "id": "5AhCxxoP-yp8"
   },
   "outputs": [],
   "source": [
    "scaler = StandardScaler()\n",
    "X_ws_valid_vectors = scaler.fit_transform(X_ws_valid_vectors)"
   ]
  },
  {
   "cell_type": "code",
   "execution_count": 39,
   "metadata": {
    "colab": {
     "base_uri": "https://localhost:8080/"
    },
    "executionInfo": {
     "elapsed": 318413,
     "status": "ok",
     "timestamp": 1605555638111,
     "user": {
      "displayName": "Dániel Pfeifer",
      "photoUrl": "",
      "userId": "16342510744691108345"
     },
     "user_tz": -60
    },
    "id": "QWZnOXTD9b2E",
    "outputId": "87daf682-6bc7-4397-a96d-aa667f8f28ad"
   },
   "outputs": [
    {
     "data": {
      "text/plain": [
       "(13705, 100)"
      ]
     },
     "execution_count": 39,
     "metadata": {},
     "output_type": "execute_result"
    }
   ],
   "source": [
    "X_ws_train_vectors.shape"
   ]
  },
  {
   "cell_type": "code",
   "execution_count": 40,
   "metadata": {
    "colab": {
     "base_uri": "https://localhost:8080/"
    },
    "executionInfo": {
     "elapsed": 318006,
     "status": "ok",
     "timestamp": 1605555638112,
     "user": {
      "displayName": "Dániel Pfeifer",
      "photoUrl": "",
      "userId": "16342510744691108345"
     },
     "user_tz": -60
    },
    "id": "YoOhuUeDTCc-",
    "outputId": "00456e4c-3a2e-444e-89ee-70accd194227"
   },
   "outputs": [
    {
     "data": {
      "text/plain": [
       "(13705, 13705)"
      ]
     },
     "execution_count": 40,
     "metadata": {},
     "output_type": "execute_result"
    }
   ],
   "source": [
    "len(X_ws_train_list), len(X_ws_train_ft_mean_vectors)"
   ]
  },
  {
   "cell_type": "code",
   "execution_count": 41,
   "metadata": {
    "colab": {
     "base_uri": "https://localhost:8080/"
    },
    "executionInfo": {
     "elapsed": 942,
     "status": "ok",
     "timestamp": 1605555639081,
     "user": {
      "displayName": "Dániel Pfeifer",
      "photoUrl": "",
      "userId": "16342510744691108345"
     },
     "user_tz": -60
    },
    "id": "zbw_znp4TM_O",
    "outputId": "7b0a1c56-f662-48dd-a1ea-9d15808f9ee0"
   },
   "outputs": [
    {
     "data": {
      "text/plain": [
       "(100,)"
      ]
     },
     "execution_count": 41,
     "metadata": {},
     "output_type": "execute_result"
    }
   ],
   "source": [
    "X_ws_train_vectors[0].shape # the input shape"
   ]
  },
  {
   "cell_type": "code",
   "execution_count": 42,
   "metadata": {
    "executionInfo": {
     "elapsed": 919,
     "status": "ok",
     "timestamp": 1605555639082,
     "user": {
      "displayName": "Dániel Pfeifer",
      "photoUrl": "",
      "userId": "16342510744691108345"
     },
     "user_tz": -60
    },
    "id": "8GXqbkjvi5ZX"
   },
   "outputs": [],
   "source": [
    "from keras.utils import to_categorical\n",
    "y_ws_train_list = to_categorical(y_ws_train_list)\n",
    "y_ws_valid_list = to_categorical(y_ws_valid_list)"
   ]
  },
  {
   "cell_type": "code",
   "execution_count": 43,
   "metadata": {
    "colab": {
     "base_uri": "https://localhost:8080/"
    },
    "executionInfo": {
     "elapsed": 901,
     "status": "ok",
     "timestamp": 1605555639083,
     "user": {
      "displayName": "Dániel Pfeifer",
      "photoUrl": "",
      "userId": "16342510744691108345"
     },
     "user_tz": -60
    },
    "id": "ggX1FwKXjPz1",
    "outputId": "5416cd56-803e-4f0e-896e-58fcc237bf52"
   },
   "outputs": [
    {
     "data": {
      "text/plain": [
       "array([[1., 0., 0.],\n",
       "       [1., 0., 0.],\n",
       "       [0., 1., 0.],\n",
       "       [1., 0., 0.],\n",
       "       [1., 0., 0.]], dtype=float32)"
      ]
     },
     "execution_count": 43,
     "metadata": {},
     "output_type": "execute_result"
    }
   ],
   "source": [
    "y_ws_train_list[:5]"
   ]
  },
  {
   "cell_type": "markdown",
   "metadata": {},
   "source": [
    "### Defining a simple Dense Model"
   ]
  },
  {
   "cell_type": "code",
   "execution_count": 44,
   "metadata": {
    "colab": {
     "base_uri": "https://localhost:8080/"
    },
    "executionInfo": {
     "elapsed": 928,
     "status": "ok",
     "timestamp": 1605569888579,
     "user": {
      "displayName": "Dániel Pfeifer",
      "photoUrl": "",
      "userId": "16342510744691108345"
     },
     "user_tz": -60
    },
    "id": "mic7KI7PT3mz",
    "outputId": "535a3a4b-e5c8-4fcc-97ec-8174b8d9a4aa"
   },
   "outputs": [
    {
     "name": "stdout",
     "output_type": "stream",
     "text": [
      "WARNING:tensorflow:Large dropout rate: 0.75 (>0.5). In TensorFlow 2.x, dropout() uses dropout rate instead of keep_prob. Please ensure that this is intended.\n",
      "WARNING:tensorflow:From C:\\Users\\AMD\\anaconda3\\lib\\site-packages\\tensorflow\\python\\ops\\init_ops.py:1251: calling VarianceScaling.__init__ (from tensorflow.python.ops.init_ops) with dtype is deprecated and will be removed in a future version.\n",
      "Instructions for updating:\n",
      "Call initializer instance with the dtype argument instead of passing it to the constructor\n"
     ]
    },
    {
     "data": {
      "text/plain": [
       "(None, 3)"
      ]
     },
     "execution_count": 44,
     "metadata": {},
     "output_type": "execute_result"
    }
   ],
   "source": [
    "dense_model = tf.keras.models.Sequential()\n",
    "dense_model.add(tf.keras.Input(shape=(300,)))\n",
    "dense_model.add(tf.keras.layers.Dense(320, activation='relu', kernel_initializer='he_normal'))\n",
    "dense_model.add(tf.keras.layers.Dense(320, activation='relu', kernel_initializer='he_normal'))\n",
    "dense_model.add(tf.keras.layers.Dropout(0.75))\n",
    "dense_model.add(tf.keras.layers.Dense(320, activation='relu', kernel_initializer='he_normal'))\n",
    "dense_model.add(tf.keras.layers.Dense(3, activation='softmax'))\n",
    "dense_model.output_shape"
   ]
  },
  {
   "cell_type": "code",
   "execution_count": 45,
   "metadata": {
    "colab": {
     "base_uri": "https://localhost:8080/"
    },
    "executionInfo": {
     "elapsed": 792,
     "status": "ok",
     "timestamp": 1605569888580,
     "user": {
      "displayName": "Dániel Pfeifer",
      "photoUrl": "",
      "userId": "16342510744691108345"
     },
     "user_tz": -60
    },
    "id": "cPZmyS54VlsE",
    "outputId": "46daba3d-e7c1-436c-fb9a-4f5be32ed16f"
   },
   "outputs": [
    {
     "name": "stdout",
     "output_type": "stream",
     "text": [
      "Model: \"sequential\"\n",
      "_________________________________________________________________\n",
      "Layer (type)                 Output Shape              Param #   \n",
      "=================================================================\n",
      "dense (Dense)                (None, 320)               96320     \n",
      "_________________________________________________________________\n",
      "dense_1 (Dense)              (None, 320)               102720    \n",
      "_________________________________________________________________\n",
      "dropout (Dropout)            (None, 320)               0         \n",
      "_________________________________________________________________\n",
      "dense_2 (Dense)              (None, 320)               102720    \n",
      "_________________________________________________________________\n",
      "dense_3 (Dense)              (None, 3)                 963       \n",
      "=================================================================\n",
      "Total params: 302,723\n",
      "Trainable params: 302,723\n",
      "Non-trainable params: 0\n",
      "_________________________________________________________________\n"
     ]
    }
   ],
   "source": [
    "dense_model.summary()"
   ]
  },
  {
   "cell_type": "code",
   "execution_count": 42,
   "metadata": {
    "executionInfo": {
     "elapsed": 1392,
     "status": "ok",
     "timestamp": 1605555639644,
     "user": {
      "displayName": "Dániel Pfeifer",
      "photoUrl": "",
      "userId": "16342510744691108345"
     },
     "user_tz": -60
    },
    "id": "eH-iIvnBZcY9"
   },
   "outputs": [],
   "source": [
    "early_stopping=EarlyStopping(monitor=\"val_loss\",patience=10,verbose=1,restore_best_weights=True)"
   ]
  },
  {
   "cell_type": "code",
   "execution_count": 43,
   "metadata": {
    "executionInfo": {
     "elapsed": 941,
     "status": "ok",
     "timestamp": 1605569892520,
     "user": {
      "displayName": "Dániel Pfeifer",
      "photoUrl": "",
      "userId": "16342510744691108345"
     },
     "user_tz": -60
    },
    "id": "TpGYmq74VvO7"
   },
   "outputs": [],
   "source": [
    "dense_model.compile(optimizer=Adam(lr=1e-4),loss='categorical_crossentropy',metrics=['accuracy'])"
   ]
  },
  {
   "cell_type": "code",
   "execution_count": 44,
   "metadata": {
    "colab": {
     "base_uri": "https://localhost:8080/"
    },
    "executionInfo": {
     "elapsed": 85826,
     "status": "ok",
     "timestamp": 1605569978864,
     "user": {
      "displayName": "Dániel Pfeifer",
      "photoUrl": "",
      "userId": "16342510744691108345"
     },
     "user_tz": -60
    },
    "id": "S42erVs6V40m",
    "outputId": "71dbb715-8aae-465f-8f96-c73effc9c9e2"
   },
   "outputs": [
    {
     "name": "stdout",
     "output_type": "stream",
     "text": [
      "Train on 10964 samples, validate on 2741 samples\n",
      "Epoch 1/250\n",
      "10964/10964 [==============================] - 7s 602us/sample - loss: 1.5211 - acc: 0.4179 - val_loss: 0.9861 - val_acc: 0.5348\n",
      "Epoch 2/250\n",
      "10964/10964 [==============================] - 6s 524us/sample - loss: 1.1150 - acc: 0.4944 - val_loss: 0.9094 - val_acc: 0.5779\n",
      "Epoch 3/250\n",
      "10964/10964 [==============================] - 6s 544us/sample - loss: 1.0090 - acc: 0.5426 - val_loss: 0.8709 - val_acc: 0.6133\n",
      "Epoch 4/250\n",
      "10964/10964 [==============================] - 7s 620us/sample - loss: 0.9490 - acc: 0.5737 - val_loss: 0.8293 - val_acc: 0.6312\n",
      "Epoch 5/250\n",
      "10964/10964 [==============================] - 8s 745us/sample - loss: 0.8969 - acc: 0.5981 - val_loss: 0.8121 - val_acc: 0.6421\n",
      "Epoch 6/250\n",
      "10964/10964 [==============================] - 11s 961us/sample - loss: 0.8627 - acc: 0.6139 - val_loss: 0.7867 - val_acc: 0.6625\n",
      "Epoch 7/250\n",
      "10964/10964 [==============================] - 7s 645us/sample - loss: 0.8239 - acc: 0.6416 - val_loss: 0.7625 - val_acc: 0.6768\n",
      "Epoch 8/250\n",
      "10964/10964 [==============================] - 7s 597us/sample - loss: 0.7891 - acc: 0.6640 - val_loss: 0.7469 - val_acc: 0.6837\n",
      "Epoch 9/250\n",
      "10964/10964 [==============================] - 6s 560us/sample - loss: 0.7772 - acc: 0.6644 - val_loss: 0.7384 - val_acc: 0.6946\n",
      "Epoch 10/250\n",
      "10964/10964 [==============================] - 6s 544us/sample - loss: 0.7487 - acc: 0.6859 - val_loss: 0.7334 - val_acc: 0.6961\n",
      "Epoch 11/250\n",
      "10964/10964 [==============================] - 6s 539us/sample - loss: 0.7253 - acc: 0.6982 - val_loss: 0.7295 - val_acc: 0.6961\n",
      "Epoch 12/250\n",
      "10964/10964 [==============================] - 6s 521us/sample - loss: 0.7019 - acc: 0.7030 - val_loss: 0.7206 - val_acc: 0.7034\n",
      "Epoch 13/250\n",
      "10964/10964 [==============================] - 7s 612us/sample - loss: 0.6855 - acc: 0.7145 - val_loss: 0.7213 - val_acc: 0.6994\n",
      "Epoch 14/250\n",
      "10964/10964 [==============================] - 7s 596us/sample - loss: 0.6734 - acc: 0.7247 - val_loss: 0.7038 - val_acc: 0.7107\n",
      "Epoch 15/250\n",
      "10964/10964 [==============================] - 6s 567us/sample - loss: 0.6584 - acc: 0.7332 - val_loss: 0.6964 - val_acc: 0.7162\n",
      "Epoch 16/250\n",
      "10964/10964 [==============================] - 7s 600us/sample - loss: 0.6342 - acc: 0.7384 - val_loss: 0.6943 - val_acc: 0.7129\n",
      "Epoch 17/250\n",
      "10964/10964 [==============================] - 6s 581us/sample - loss: 0.6180 - acc: 0.7439 - val_loss: 0.6985 - val_acc: 0.7191\n",
      "Epoch 18/250\n",
      "10964/10964 [==============================] - 6s 581us/sample - loss: 0.6079 - acc: 0.7531 - val_loss: 0.6927 - val_acc: 0.7202\n",
      "Epoch 19/250\n",
      "10964/10964 [==============================] - 6s 588us/sample - loss: 0.5989 - acc: 0.7580 - val_loss: 0.6941 - val_acc: 0.7173\n",
      "Epoch 20/250\n",
      "10964/10964 [==============================] - 7s 599us/sample - loss: 0.5828 - acc: 0.7636 - val_loss: 0.6919 - val_acc: 0.7194\n",
      "Epoch 21/250\n",
      "10964/10964 [==============================] - 6s 559us/sample - loss: 0.5610 - acc: 0.7745 - val_loss: 0.6989 - val_acc: 0.7213\n",
      "Epoch 22/250\n",
      "10964/10964 [==============================] - 7s 611us/sample - loss: 0.5560 - acc: 0.7732 - val_loss: 0.6934 - val_acc: 0.7220\n",
      "Epoch 23/250\n",
      "10964/10964 [==============================] - 7s 637us/sample - loss: 0.5417 - acc: 0.7790 - val_loss: 0.6921 - val_acc: 0.7249\n",
      "Epoch 24/250\n",
      "10964/10964 [==============================] - 6s 590us/sample - loss: 0.5296 - acc: 0.7868 - val_loss: 0.6915 - val_acc: 0.7293\n",
      "Epoch 25/250\n",
      "10964/10964 [==============================] - 7s 613us/sample - loss: 0.5127 - acc: 0.7955 - val_loss: 0.6872 - val_acc: 0.7286\n",
      "Epoch 26/250\n",
      "10964/10964 [==============================] - 7s 614us/sample - loss: 0.5005 - acc: 0.7972 - val_loss: 0.7039 - val_acc: 0.7235\n",
      "Epoch 27/250\n",
      "10964/10964 [==============================] - 7s 606us/sample - loss: 0.4851 - acc: 0.8045 - val_loss: 0.7048 - val_acc: 0.7271\n",
      "Epoch 28/250\n",
      "10964/10964 [==============================] - 23s 2ms/sample - loss: 0.4761 - acc: 0.8095 - val_loss: 0.7130 - val_acc: 0.7286\n",
      "Epoch 29/250\n",
      "10964/10964 [==============================] - 7s 648us/sample - loss: 0.4623 - acc: 0.8133 - val_loss: 0.7063 - val_acc: 0.7322\n",
      "Epoch 30/250\n",
      "10964/10964 [==============================] - 7s 613us/sample - loss: 0.4541 - acc: 0.8197 - val_loss: 0.7177 - val_acc: 0.7286\n",
      "Epoch 31/250\n",
      "10964/10964 [==============================] - 6s 561us/sample - loss: 0.4423 - acc: 0.8257 - val_loss: 0.7170 - val_acc: 0.7308\n",
      "Epoch 32/250\n",
      "10964/10964 [==============================] - 6s 584us/sample - loss: 0.4260 - acc: 0.8321 - val_loss: 0.7179 - val_acc: 0.7300\n",
      "Epoch 33/250\n",
      "10964/10964 [==============================] - 6s 581us/sample - loss: 0.4219 - acc: 0.8347 - val_loss: 0.7246 - val_acc: 0.7300\n",
      "Epoch 34/250\n",
      "10964/10964 [==============================] - 7s 636us/sample - loss: 0.4121 - acc: 0.8349 - val_loss: 0.7288 - val_acc: 0.7311\n",
      "Epoch 35/250\n",
      "10964/10964 [==============================] - 7s 608us/sample - loss: 0.3981 - acc: 0.8398 - val_loss: 0.7388 - val_acc: 0.7304\n",
      "Epoch 00035: early stopping\n"
     ]
    },
    {
     "data": {
      "text/plain": [
       "<tensorflow.python.keras.callbacks.History at 0x292977de888>"
      ]
     },
     "execution_count": 44,
     "metadata": {},
     "output_type": "execute_result"
    }
   ],
   "source": [
    "dense_model.fit(X_ws_train_ft_mean_vectors, y_ws_train_list,  validation_split = 0.2,\n",
    "                     callbacks=[early_stopping], epochs=250)"
   ]
  },
  {
   "cell_type": "code",
   "execution_count": 45,
   "metadata": {
    "colab": {
     "base_uri": "https://localhost:8080/"
    },
    "executionInfo": {
     "elapsed": 972,
     "status": "ok",
     "timestamp": 1605570016064,
     "user": {
      "displayName": "Dániel Pfeifer",
      "photoUrl": "",
      "userId": "16342510744691108345"
     },
     "user_tz": -60
    },
    "id": "W1QM3GsvXEva",
    "outputId": "3f8ace2a-cb80-418a-d146-224733552a07"
   },
   "outputs": [
    {
     "name": "stdout",
     "output_type": "stream",
     "text": [
      "Test score:  0.7087346330300293\n",
      "Test accuracy:  0.7419135\n"
     ]
    }
   ],
   "source": [
    "score = dense_model.evaluate(X_ws_valid_ft_mean_vectors, y_ws_valid_list, verbose = 0)\n",
    "print(\"Test score: \", score[0])\n",
    "print(\"Test accuracy: \", score[1])"
   ]
  },
  {
   "cell_type": "markdown",
   "metadata": {
    "id": "jLi8mzqqVarQ"
   },
   "source": [
    "Adam lr=1e-03: Test score:  1.6695 Test accuracy:  0.7431 <br>\n",
    "Adam lr=1e-04: Test score:  1.3782 Test accuracy:  0.7233 <br>\n",
    "Adam lr=1e-05 (75 epochs):  Test score:  0.7557 Test accuracy:  0.7211 <br>"
   ]
  },
  {
   "cell_type": "markdown",
   "metadata": {
    "id": "o7w6dlcfHZgM"
   },
   "source": [
    "### Defining various CNN models"
   ]
  },
  {
   "cell_type": "code",
   "execution_count": 45,
   "metadata": {
    "executionInfo": {
     "elapsed": 864,
     "status": "ok",
     "timestamp": 1605570031252,
     "user": {
      "displayName": "Dániel Pfeifer",
      "photoUrl": "",
      "userId": "16342510744691108345"
     },
     "user_tz": -60
    },
    "id": "sHLWyHfLErES"
   },
   "outputs": [],
   "source": [
    "cutoff = 100"
   ]
  },
  {
   "cell_type": "markdown",
   "metadata": {},
   "source": [
    "Data transformation for the CNN model (detailed in section 3.3.1 of our report PDF):"
   ]
  },
  {
   "cell_type": "code",
   "execution_count": 46,
   "metadata": {
    "executionInfo": {
     "elapsed": 619,
     "status": "ok",
     "timestamp": 1605570031253,
     "user": {
      "displayName": "Dániel Pfeifer",
      "photoUrl": "",
      "userId": "16342510744691108345"
     },
     "user_tz": -60
    },
    "id": "EvsvVopxC4R4"
   },
   "outputs": [],
   "source": [
    "def shorten(X_input_sentences, y_input_labels, length):\n",
    "    X_out = []\n",
    "    y_out = []\n",
    "    for i in range(len(X_input_sentences)):\n",
    "        if len(X_input_sentences[i].split(' ')) <= length:\n",
    "            X_out.append(X_input_sentences[i])\n",
    "            y_out.append(y_input_labels[i])\n",
    "    return X_out, np.array(y_out)\n",
    "\n",
    "X_ws_train_list_short, y_ws_train_list_short = shorten(X_ws_train_list,y_ws_train_list,cutoff)\n",
    "X_ws_valid_list_short, y_ws_valid_list_short = shorten(X_ws_valid_list,y_ws_valid_list,cutoff)"
   ]
  },
  {
   "cell_type": "code",
   "execution_count": 47,
   "metadata": {
    "colab": {
     "base_uri": "https://localhost:8080/"
    },
    "id": "92HvpvPSB1dN",
    "outputId": "390418d3-a41b-4fe8-a814-bdd75754975d"
   },
   "outputs": [
    {
     "name": "stderr",
     "output_type": "stream",
     "text": [
      "C:\\Users\\AMD\\anaconda3\\lib\\site-packages\\ipykernel_launcher.py:13: DeprecationWarning: Call to deprecated `wv` (Attribute will be removed in 4.0.0, use self instead).\n",
      "  del sys.path[0]\n"
     ]
    }
   ],
   "source": [
    "def set_of_sentences_to_vec(orig_list, vec_length, cutoff):\n",
    "\n",
    "    out = np.empty([len(orig_list), cutoff, vec_length])\n",
    "\n",
    "    for j in range(len(orig_list)):\n",
    "        add_vectors = np.empty([cutoff, vec_length])\n",
    "        \n",
    "        sentence_length = len(orig_list[j].split()) + 1\n",
    "        \n",
    "        for i in range(cutoff):\n",
    "            cur_split_sentence = orig_list[j].split() + [' ']\n",
    "            try:\n",
    "                add_vectors[i] = fasttext_vectors.wv[cur_split_sentence[i % sentence_length]]\n",
    "            except KeyError:\n",
    "                add_vectors[i] = np.zeros(vec_length)\n",
    "\n",
    "        out[j] = add_vectors\n",
    "  \n",
    "    return out\n",
    "\n",
    "X_ws_train_ft_all_vectors = set_of_sentences_to_vec(X_ws_train_list_short, 300, cutoff)\n",
    "X_ws_valid_ft_all_vectors = set_of_sentences_to_vec(X_ws_valid_list_short, 300, cutoff)"
   ]
  },
  {
   "cell_type": "code",
   "execution_count": 48,
   "metadata": {
    "colab": {
     "base_uri": "https://localhost:8080/"
    },
    "executionInfo": {
     "elapsed": 10426,
     "status": "ok",
     "timestamp": 1605555817606,
     "user": {
      "displayName": "Dániel Pfeifer",
      "photoUrl": "",
      "userId": "16342510744691108345"
     },
     "user_tz": -60
    },
    "id": "84BzSy5-CaOc",
    "outputId": "694d2f3e-53ea-41ab-be19-ebb17fb16f9b"
   },
   "outputs": [
    {
     "data": {
      "text/plain": [
       "(13640, 100, 300)"
      ]
     },
     "execution_count": 48,
     "metadata": {},
     "output_type": "execute_result"
    }
   ],
   "source": [
    "X_ws_train_ft_all_vectors.shape"
   ]
  },
  {
   "cell_type": "code",
   "execution_count": 49,
   "metadata": {
    "colab": {
     "base_uri": "https://localhost:8080/"
    },
    "executionInfo": {
     "elapsed": 10039,
     "status": "ok",
     "timestamp": 1605555817608,
     "user": {
      "displayName": "Dániel Pfeifer",
      "photoUrl": "",
      "userId": "16342510744691108345"
     },
     "user_tz": -60
    },
    "id": "XDWE4PVFGjDY",
    "outputId": "ee9a7929-85b7-4569-ec84-b827f2b09a1f"
   },
   "outputs": [
    {
     "data": {
      "text/plain": [
       "(5850, 100, 300)"
      ]
     },
     "execution_count": 49,
     "metadata": {},
     "output_type": "execute_result"
    }
   ],
   "source": [
    "X_ws_valid_ft_all_vectors.shape"
   ]
  },
  {
   "cell_type": "code",
   "execution_count": 50,
   "metadata": {},
   "outputs": [],
   "source": [
    "X_ws_train_ft_all_vectors_tp = np.transpose(X_ws_train_ft_all_vectors,axes=(0,2,1))\n",
    "X_ws_valid_ft_all_vectors_tp = np.transpose(X_ws_valid_ft_all_vectors,axes=(0,2,1))"
   ]
  },
  {
   "cell_type": "code",
   "execution_count": 51,
   "metadata": {},
   "outputs": [
    {
     "data": {
      "text/plain": [
       "(13640, 300, 100)"
      ]
     },
     "execution_count": 51,
     "metadata": {},
     "output_type": "execute_result"
    }
   ],
   "source": [
    "X_ws_train_ft_all_vectors_tp.shape"
   ]
  },
  {
   "cell_type": "code",
   "execution_count": 52,
   "metadata": {},
   "outputs": [
    {
     "data": {
      "text/plain": [
       "(5850, 300, 100)"
      ]
     },
     "execution_count": 52,
     "metadata": {},
     "output_type": "execute_result"
    }
   ],
   "source": [
    "X_ws_valid_ft_all_vectors_tp.shape"
   ]
  },
  {
   "cell_type": "code",
   "execution_count": 53,
   "metadata": {
    "colab": {
     "base_uri": "https://localhost:8080/"
    },
    "executionInfo": {
     "elapsed": 792,
     "status": "ok",
     "timestamp": 1605569822921,
     "user": {
      "displayName": "Dániel Pfeifer",
      "photoUrl": "",
      "userId": "16342510744691108345"
     },
     "user_tz": -60
    },
    "id": "28vZEmPEp8IH",
    "outputId": "dbc9078c-24ee-4b64-caea-40c8b758e698"
   },
   "outputs": [
    {
     "data": {
      "text/plain": [
       "(None, 3)"
      ]
     },
     "execution_count": 53,
     "metadata": {},
     "output_type": "execute_result"
    }
   ],
   "source": [
    "conv_model = tf.keras.models.Sequential()\n",
    "conv_model.add(tf.keras.layers.Conv1D(300,kernel_size=7,\n",
    "        input_shape=(100,300), activation='relu',\n",
    "        kernel_regularizer=regularizers.l1_l2(l1=1e-4, l2=1e-3),\n",
    "        bias_regularizer=regularizers.l2(1e-3),\n",
    "        activity_regularizer=regularizers.l2(1e-4)))\n",
    "conv_model.add(tf.keras.layers.Flatten())\n",
    "conv_model.add(tf.keras.layers.Dense(94, activation='relu',\n",
    "        kernel_regularizer=regularizers.l1_l2(l1=1e-4, l2=1e-3),\n",
    "        bias_regularizer=regularizers.l2(1e-3),\n",
    "        activity_regularizer=regularizers.l2(1e-4)))\n",
    "conv_model.add(tf.keras.layers.Dropout(0.4))\n",
    "conv_model.add(tf.keras.layers.Dense(3, activation='softmax'))\n",
    "conv_model.output_shape"
   ]
  },
  {
   "cell_type": "code",
   "execution_count": 54,
   "metadata": {},
   "outputs": [
    {
     "name": "stdout",
     "output_type": "stream",
     "text": [
      "Model: \"sequential_1\"\n",
      "_________________________________________________________________\n",
      "Layer (type)                 Output Shape              Param #   \n",
      "=================================================================\n",
      "conv1d (Conv1D)              (None, 94, 300)           630300    \n",
      "_________________________________________________________________\n",
      "flatten (Flatten)            (None, 28200)             0         \n",
      "_________________________________________________________________\n",
      "dense_4 (Dense)              (None, 94)                2650894   \n",
      "_________________________________________________________________\n",
      "dropout_1 (Dropout)          (None, 94)                0         \n",
      "_________________________________________________________________\n",
      "dense_5 (Dense)              (None, 3)                 285       \n",
      "=================================================================\n",
      "Total params: 3,281,479\n",
      "Trainable params: 3,281,479\n",
      "Non-trainable params: 0\n",
      "_________________________________________________________________\n"
     ]
    }
   ],
   "source": [
    "conv_model.summary()"
   ]
  },
  {
   "cell_type": "code",
   "execution_count": 55,
   "metadata": {},
   "outputs": [
    {
     "data": {
      "image/png": "[encoded data removed]",
      "text/plain": [
       "<IPython.core.display.Image object>"
      ]
     },
     "execution_count": 55,
     "metadata": {},
     "output_type": "execute_result"
    }
   ],
   "source": [
    "plot_model(conv_model, to_file='conv_model_plot.png', show_shapes=True, show_layer_names=True)"
   ]
  },
  {
   "cell_type": "code",
   "execution_count": 56,
   "metadata": {},
   "outputs": [],
   "source": [
    "conv_model.compile(optimizer='adam',loss='categorical_crossentropy' ,metrics=['accuracy'])"
   ]
  },
  {
   "cell_type": "code",
   "execution_count": 57,
   "metadata": {},
   "outputs": [
    {
     "name": "stdout",
     "output_type": "stream",
     "text": [
      "WARNING:tensorflow:Large dropout rate: 0.67 (>0.5). In TensorFlow 2.x, dropout() uses dropout rate instead of keep_prob. Please ensure that this is intended.\n"
     ]
    },
    {
     "data": {
      "text/plain": [
       "(None, 3)"
      ]
     },
     "execution_count": 57,
     "metadata": {},
     "output_type": "execute_result"
    }
   ],
   "source": [
    "inp = tf.keras.Input(shape=(300,100), name='input')\n",
    "\n",
    "def conv_pool_layer(kernel_size,input_layer,name):\n",
    "    \n",
    "    conv = tf.keras.layers.Conv1D(100,kernel_size=kernel_size,\n",
    "        input_shape=(300,100), activation='relu', padding='same',\n",
    "        kernel_regularizer=regularizers.l1_l2(l1=1e-4, l2=1e-3),\n",
    "        bias_regularizer=regularizers.l2(1e-3),\n",
    "        activity_regularizer=regularizers.l2(1e-4),\n",
    "        data_format='channels_last', name='1D_conv' + name)(input_layer)\n",
    "\n",
    "    return conv\n",
    "\n",
    "model3 = tf.keras.Model(inputs=inp, outputs=conv_pool_layer(3,inp,'3'))\n",
    "model5 = tf.keras.Model(inputs=inp, outputs=conv_pool_layer(5,inp,'5'))\n",
    "model7 = tf.keras.Model(inputs=inp, outputs=conv_pool_layer(7,inp,'7'))\n",
    "model9 = tf.keras.Model(inputs=inp, outputs=conv_pool_layer(9,inp,'9'))\n",
    "\n",
    "combined = tf.keras.layers.concatenate([model3.output, model5.output,\n",
    "                                        model7.output, model9.output], name='concatenate')\n",
    "\n",
    "flat = tf.keras.layers.Flatten(name='flatten')(combined)\n",
    "drop = tf.keras.layers.Dropout(0.67,name='droput_0.67')(flat)\n",
    "dense = tf.keras.layers.Dense(3, activation='softmax',name='dense')(drop)\n",
    "\n",
    "conv_model2 = tf.keras.Model(inputs=[model3.input],\n",
    "                            outputs=dense,name='Multiconv_Model')\n",
    "conv_model2.output_shape"
   ]
  },
  {
   "cell_type": "code",
   "execution_count": 58,
   "metadata": {
    "colab": {
     "base_uri": "https://localhost:8080/"
    },
    "executionInfo": {
     "elapsed": 847,
     "status": "ok",
     "timestamp": 1605569824585,
     "user": {
      "displayName": "Dániel Pfeifer",
      "photoUrl": "",
      "userId": "16342510744691108345"
     },
     "user_tz": -60
    },
    "id": "qONLMQbvM-o6",
    "outputId": "21101936-d853-47b3-deda-7645e8fcdeb6"
   },
   "outputs": [
    {
     "name": "stdout",
     "output_type": "stream",
     "text": [
      "Model: \"Multiconv_Model\"\n",
      "__________________________________________________________________________________________________\n",
      "Layer (type)                    Output Shape         Param #     Connected to                     \n",
      "==================================================================================================\n",
      "input (InputLayer)              [(None, 300, 100)]   0                                            \n",
      "__________________________________________________________________________________________________\n",
      "1D_conv3 (Conv1D)               (None, 300, 100)     30100       input[0][0]                      \n",
      "__________________________________________________________________________________________________\n",
      "1D_conv5 (Conv1D)               (None, 300, 100)     50100       input[0][0]                      \n",
      "__________________________________________________________________________________________________\n",
      "1D_conv7 (Conv1D)               (None, 300, 100)     70100       input[0][0]                      \n",
      "__________________________________________________________________________________________________\n",
      "1D_conv9 (Conv1D)               (None, 300, 100)     90100       input[0][0]                      \n",
      "__________________________________________________________________________________________________\n",
      "concatenate (Concatenate)       (None, 300, 400)     0           1D_conv3[0][0]                   \n",
      "                                                                 1D_conv5[0][0]                   \n",
      "                                                                 1D_conv7[0][0]                   \n",
      "                                                                 1D_conv9[0][0]                   \n",
      "__________________________________________________________________________________________________\n",
      "flatten (Flatten)               (None, 120000)       0           concatenate[0][0]                \n",
      "__________________________________________________________________________________________________\n",
      "droput_0.67 (Dropout)           (None, 120000)       0           flatten[0][0]                    \n",
      "__________________________________________________________________________________________________\n",
      "dense (Dense)                   (None, 3)            360003      droput_0.67[0][0]                \n",
      "==================================================================================================\n",
      "Total params: 600,403\n",
      "Trainable params: 600,403\n",
      "Non-trainable params: 0\n",
      "__________________________________________________________________________________________________\n"
     ]
    }
   ],
   "source": [
    "conv_model2.summary()"
   ]
  },
  {
   "cell_type": "code",
   "execution_count": 59,
   "metadata": {},
   "outputs": [
    {
     "data": {
      "image/png": "[encoded data removed]",
      "text/plain": [
       "<IPython.core.display.Image object>"
      ]
     },
     "execution_count": 59,
     "metadata": {},
     "output_type": "execute_result"
    }
   ],
   "source": [
    "plot_model(conv_model2, to_file='multiconv_model_plot.png', show_shapes=True, show_layer_names=True)"
   ]
  },
  {
   "cell_type": "markdown",
   "metadata": {},
   "source": [
    "Using **Early Stopping** to stop the learning early and **restore all the best possible weights** found in a certain epoch:"
   ]
  },
  {
   "cell_type": "code",
   "execution_count": 62,
   "metadata": {},
   "outputs": [],
   "source": [
    "early_stopping=EarlyStopping(monitor=\"val_loss\",patience=5,verbose=1,restore_best_weights=True)"
   ]
  },
  {
   "cell_type": "code",
   "execution_count": 63,
   "metadata": {
    "executionInfo": {
     "elapsed": 736,
     "status": "ok",
     "timestamp": 1605569826320,
     "user": {
      "displayName": "Dániel Pfeifer",
      "photoUrl": "",
      "userId": "16342510744691108345"
     },
     "user_tz": -60
    },
    "id": "Y7yxL0avOSBi"
   },
   "outputs": [],
   "source": [
    "conv_model2.compile(optimizer='adam',loss='categorical_crossentropy', metrics=['accuracy'])"
   ]
  },
  {
   "cell_type": "code",
   "execution_count": 63,
   "metadata": {
    "scrolled": true
   },
   "outputs": [
    {
     "name": "stdout",
     "output_type": "stream",
     "text": [
      "SESSION 0\n",
      "Train on 12400 samples, validate on 1240 samples\n",
      "Epoch 1/5\n",
      "12400/12400 [==============================] - 784s 63ms/sample - loss: 1.1951 - acc: 0.5371 - val_loss: 0.9324 - val_acc: 0.6121\n",
      "Epoch 2/5\n",
      "12400/12400 [==============================] - 766s 62ms/sample - loss: 0.9099 - acc: 0.6631 - val_loss: 0.8844 - val_acc: 0.6903\n",
      "Epoch 3/5\n",
      "12400/12400 [==============================] - 779s 63ms/sample - loss: 0.8916 - acc: 0.6908 - val_loss: 0.9266 - val_acc: 0.6710\n",
      "Epoch 4/5\n",
      "12400/12400 [==============================] - 762s 61ms/sample - loss: 0.8824 - acc: 0.7069 - val_loss: 0.8673 - val_acc: 0.7024\n",
      "Epoch 5/5\n",
      "12400/12400 [==============================] - 726s 59ms/sample - loss: 0.8455 - acc: 0.7203 - val_loss: 0.8620 - val_acc: 0.7073\n",
      "SESSION 1\n",
      "Train on 12400 samples, validate on 1240 samples\n",
      "Epoch 1/5\n",
      "12400/12400 [==============================] - 737s 59ms/sample - loss: 0.8460 - acc: 0.7276 - val_loss: 0.8385 - val_acc: 0.7145\n",
      "Epoch 2/5\n",
      "12400/12400 [==============================] - 745s 60ms/sample - loss: 0.8172 - acc: 0.7366 - val_loss: 0.8784 - val_acc: 0.7032\n",
      "Epoch 3/5\n",
      "12400/12400 [==============================] - 758s 61ms/sample - loss: 0.8100 - acc: 0.7386 - val_loss: 0.8960 - val_acc: 0.6750\n",
      "Epoch 4/5\n",
      "12400/12400 [==============================] - 805s 65ms/sample - loss: 0.8177 - acc: 0.7413 - val_loss: 1.0060 - val_acc: 0.6484\n",
      "Epoch 5/5\n",
      "12400/12400 [==============================] - 997s 80ms/sample - loss: 0.8345 - acc: 0.7483 - val_loss: 0.8904 - val_acc: 0.7153\n",
      "SESSION 2\n",
      "Train on 12400 samples, validate on 1240 samples\n",
      "Epoch 1/5\n",
      " 2740/12400 [=====>........................] - ETA: 12:20 - loss: 0.8025 - acc: 0.7555"
     ]
    },
    {
     "ename": "KeyboardInterrupt",
     "evalue": "",
     "output_type": "error",
     "traceback": [
      "\u001b[1;31m---------------------------------------------------------------------------\u001b[0m",
      "\u001b[1;31mKeyboardInterrupt\u001b[0m                         Traceback (most recent call last)",
      "\u001b[1;32m<ipython-input-63-37be888768ec>\u001b[0m in \u001b[0;36m<module>\u001b[1;34m\u001b[0m\n\u001b[0;32m      2\u001b[0m     \u001b[0mprint\u001b[0m\u001b[1;33m(\u001b[0m\u001b[1;34m\"SESSION \"\u001b[0m \u001b[1;33m+\u001b[0m \u001b[0mstr\u001b[0m\u001b[1;33m(\u001b[0m\u001b[0mi\u001b[0m\u001b[1;33m)\u001b[0m\u001b[1;33m)\u001b[0m\u001b[1;33m\u001b[0m\u001b[1;33m\u001b[0m\u001b[0m\n\u001b[0;32m      3\u001b[0m     conv_model.fit(X_ws_train_ft_all_vectors, y_ws_train_list_short,\n\u001b[1;32m----> 4\u001b[1;33m                    epochs=5, batch_size=20, validation_split=1/11)\n\u001b[0m\u001b[0;32m      5\u001b[0m     \u001b[0mconv_model\u001b[0m\u001b[1;33m.\u001b[0m\u001b[0msave\u001b[0m\u001b[1;33m(\u001b[0m\u001b[1;34m'author_identification_conv3_model'\u001b[0m \u001b[1;33m+\u001b[0m \u001b[0mstr\u001b[0m\u001b[1;33m(\u001b[0m\u001b[0mi\u001b[0m\u001b[1;33m)\u001b[0m \u001b[1;33m+\u001b[0m \u001b[1;34m'.h5'\u001b[0m\u001b[1;33m)\u001b[0m\u001b[1;33m\u001b[0m\u001b[1;33m\u001b[0m\u001b[0m\n",
      "\u001b[1;32m~\\anaconda3\\lib\\site-packages\\tensorflow\\python\\keras\\engine\\training.py\u001b[0m in \u001b[0;36mfit\u001b[1;34m(self, x, y, batch_size, epochs, verbose, callbacks, validation_split, validation_data, shuffle, class_weight, sample_weight, initial_epoch, steps_per_epoch, validation_steps, validation_freq, max_queue_size, workers, use_multiprocessing, **kwargs)\u001b[0m\n\u001b[0;32m    778\u001b[0m           \u001b[0mvalidation_steps\u001b[0m\u001b[1;33m=\u001b[0m\u001b[0mvalidation_steps\u001b[0m\u001b[1;33m,\u001b[0m\u001b[1;33m\u001b[0m\u001b[1;33m\u001b[0m\u001b[0m\n\u001b[0;32m    779\u001b[0m           \u001b[0mvalidation_freq\u001b[0m\u001b[1;33m=\u001b[0m\u001b[0mvalidation_freq\u001b[0m\u001b[1;33m,\u001b[0m\u001b[1;33m\u001b[0m\u001b[1;33m\u001b[0m\u001b[0m\n\u001b[1;32m--> 780\u001b[1;33m           steps_name='steps_per_epoch')\n\u001b[0m\u001b[0;32m    781\u001b[0m \u001b[1;33m\u001b[0m\u001b[0m\n\u001b[0;32m    782\u001b[0m   def evaluate(self,\n",
      "\u001b[1;32m~\\anaconda3\\lib\\site-packages\\tensorflow\\python\\keras\\engine\\training_arrays.py\u001b[0m in \u001b[0;36mmodel_iteration\u001b[1;34m(model, inputs, targets, sample_weights, batch_size, epochs, verbose, callbacks, val_inputs, val_targets, val_sample_weights, shuffle, initial_epoch, steps_per_epoch, validation_steps, validation_freq, mode, validation_in_fit, prepared_feed_values_from_dataset, steps_name, **kwargs)\u001b[0m\n\u001b[0;32m    361\u001b[0m \u001b[1;33m\u001b[0m\u001b[0m\n\u001b[0;32m    362\u001b[0m         \u001b[1;31m# Get outputs.\u001b[0m\u001b[1;33m\u001b[0m\u001b[1;33m\u001b[0m\u001b[1;33m\u001b[0m\u001b[0m\n\u001b[1;32m--> 363\u001b[1;33m         \u001b[0mbatch_outs\u001b[0m \u001b[1;33m=\u001b[0m \u001b[0mf\u001b[0m\u001b[1;33m(\u001b[0m\u001b[0mins_batch\u001b[0m\u001b[1;33m)\u001b[0m\u001b[1;33m\u001b[0m\u001b[1;33m\u001b[0m\u001b[0m\n\u001b[0m\u001b[0;32m    364\u001b[0m         \u001b[1;32mif\u001b[0m \u001b[1;32mnot\u001b[0m \u001b[0misinstance\u001b[0m\u001b[1;33m(\u001b[0m\u001b[0mbatch_outs\u001b[0m\u001b[1;33m,\u001b[0m \u001b[0mlist\u001b[0m\u001b[1;33m)\u001b[0m\u001b[1;33m:\u001b[0m\u001b[1;33m\u001b[0m\u001b[1;33m\u001b[0m\u001b[0m\n\u001b[0;32m    365\u001b[0m           \u001b[0mbatch_outs\u001b[0m \u001b[1;33m=\u001b[0m \u001b[1;33m[\u001b[0m\u001b[0mbatch_outs\u001b[0m\u001b[1;33m]\u001b[0m\u001b[1;33m\u001b[0m\u001b[1;33m\u001b[0m\u001b[0m\n",
      "\u001b[1;32m~\\anaconda3\\lib\\site-packages\\tensorflow\\python\\keras\\backend.py\u001b[0m in \u001b[0;36m__call__\u001b[1;34m(self, inputs)\u001b[0m\n\u001b[0;32m   3290\u001b[0m \u001b[1;33m\u001b[0m\u001b[0m\n\u001b[0;32m   3291\u001b[0m     fetched = self._callable_fn(*array_vals,\n\u001b[1;32m-> 3292\u001b[1;33m                                 run_metadata=self.run_metadata)\n\u001b[0m\u001b[0;32m   3293\u001b[0m     \u001b[0mself\u001b[0m\u001b[1;33m.\u001b[0m\u001b[0m_call_fetch_callbacks\u001b[0m\u001b[1;33m(\u001b[0m\u001b[0mfetched\u001b[0m\u001b[1;33m[\u001b[0m\u001b[1;33m-\u001b[0m\u001b[0mlen\u001b[0m\u001b[1;33m(\u001b[0m\u001b[0mself\u001b[0m\u001b[1;33m.\u001b[0m\u001b[0m_fetches\u001b[0m\u001b[1;33m)\u001b[0m\u001b[1;33m:\u001b[0m\u001b[1;33m]\u001b[0m\u001b[1;33m)\u001b[0m\u001b[1;33m\u001b[0m\u001b[1;33m\u001b[0m\u001b[0m\n\u001b[0;32m   3294\u001b[0m     output_structure = nest.pack_sequence_as(\n",
      "\u001b[1;32m~\\anaconda3\\lib\\site-packages\\tensorflow\\python\\client\\session.py\u001b[0m in \u001b[0;36m__call__\u001b[1;34m(self, *args, **kwargs)\u001b[0m\n\u001b[0;32m   1456\u001b[0m         ret = tf_session.TF_SessionRunCallable(self._session._session,\n\u001b[0;32m   1457\u001b[0m                                                \u001b[0mself\u001b[0m\u001b[1;33m.\u001b[0m\u001b[0m_handle\u001b[0m\u001b[1;33m,\u001b[0m \u001b[0margs\u001b[0m\u001b[1;33m,\u001b[0m\u001b[1;33m\u001b[0m\u001b[1;33m\u001b[0m\u001b[0m\n\u001b[1;32m-> 1458\u001b[1;33m                                                run_metadata_ptr)\n\u001b[0m\u001b[0;32m   1459\u001b[0m         \u001b[1;32mif\u001b[0m \u001b[0mrun_metadata\u001b[0m\u001b[1;33m:\u001b[0m\u001b[1;33m\u001b[0m\u001b[1;33m\u001b[0m\u001b[0m\n\u001b[0;32m   1460\u001b[0m           \u001b[0mproto_data\u001b[0m \u001b[1;33m=\u001b[0m \u001b[0mtf_session\u001b[0m\u001b[1;33m.\u001b[0m\u001b[0mTF_GetBuffer\u001b[0m\u001b[1;33m(\u001b[0m\u001b[0mrun_metadata_ptr\u001b[0m\u001b[1;33m)\u001b[0m\u001b[1;33m\u001b[0m\u001b[1;33m\u001b[0m\u001b[0m\n",
      "\u001b[1;31mKeyboardInterrupt\u001b[0m: "
     ]
    }
   ],
   "source": [
    "for i in range(8):\n",
    "    print(\"SESSION \" + str(i)) \n",
    "    conv_model.fit(X_ws_train_ft_all_vectors, y_ws_train_list_short,\n",
    "                   epochs=5, batch_size=20, validation_split=1/11, callbacks=[early_stopping])\n",
    "    conv_model.save('author_identification_conv3_model' + str(i) + '.h5')"
   ]
  },
  {
   "cell_type": "code",
   "execution_count": 63,
   "metadata": {
    "scrolled": true
   },
   "outputs": [
    {
     "name": "stdout",
     "output_type": "stream",
     "text": [
      "SESSION 0\n",
      "Train on 12400 samples, validate on 1240 samples\n",
      "Epoch 1/5\n",
      "12400/12400 [==============================] - 837s 68ms/sample - loss: 1.5418 - acc: 0.5183 - val_loss: 1.1116 - val_acc: 0.6105\n",
      "Epoch 2/5\n",
      "12400/12400 [==============================] - 776s 63ms/sample - loss: 0.9945 - acc: 0.6448 - val_loss: 0.9333 - val_acc: 0.6492\n",
      "Epoch 3/5\n",
      "12400/12400 [==============================] - 771s 62ms/sample - loss: 0.9074 - acc: 0.6681 - val_loss: 0.9067 - val_acc: 0.6645\n",
      "Epoch 4/5\n",
      "12400/12400 [==============================] - 767s 62ms/sample - loss: 0.8774 - acc: 0.6905 - val_loss: 0.9301 - val_acc: 0.6508\n",
      "Epoch 5/5\n",
      "12400/12400 [==============================] - 763s 61ms/sample - loss: 0.8465 - acc: 0.7076 - val_loss: 0.8968 - val_acc: 0.6895\n",
      "SESSION 1\n",
      "Train on 12400 samples, validate on 1240 samples\n",
      "Epoch 1/5\n",
      "12400/12400 [==============================] - 764s 62ms/sample - loss: 0.8312 - acc: 0.7211 - val_loss: 0.9624 - val_acc: 0.6395\n",
      "Epoch 2/5\n",
      "12400/12400 [==============================] - 764s 62ms/sample - loss: 0.8099 - acc: 0.7380 - val_loss: 0.9287 - val_acc: 0.6823\n",
      "Epoch 3/5\n",
      "12400/12400 [==============================] - 751s 61ms/sample - loss: 0.8026 - acc: 0.7433 - val_loss: 0.9540 - val_acc: 0.6823\n",
      "Epoch 4/5\n",
      "12400/12400 [==============================] - 765s 62ms/sample - loss: 0.8443 - acc: 0.7483 - val_loss: 1.0670 - val_acc: 0.6887\n",
      "Epoch 5/5\n",
      "12400/12400 [==============================] - 756s 61ms/sample - loss: 0.8742 - acc: 0.7595 - val_loss: 1.1558 - val_acc: 0.6411\n",
      "SESSION 2\n",
      "Train on 12400 samples, validate on 1240 samples\n",
      "Epoch 1/5\n",
      "12400/12400 [==============================] - 770s 62ms/sample - loss: 0.8449 - acc: 0.7668 - val_loss: 1.1187 - val_acc: 0.6484\n",
      "Epoch 2/5\n",
      "12400/12400 [==============================] - 766s 62ms/sample - loss: 0.8075 - acc: 0.7821 - val_loss: 1.0281 - val_acc: 0.6734\n",
      "Epoch 3/5\n",
      "12400/12400 [==============================] - 752s 61ms/sample - loss: 0.7781 - acc: 0.7898 - val_loss: 1.0517 - val_acc: 0.6790\n",
      "Epoch 4/5\n",
      "12400/12400 [==============================] - 767s 62ms/sample - loss: 0.7342 - acc: 0.8025 - val_loss: 1.1148 - val_acc: 0.6516\n",
      "Epoch 5/5\n",
      "12400/12400 [==============================] - 772s 62ms/sample - loss: 0.7229 - acc: 0.8069 - val_loss: 1.0810 - val_acc: 0.6524\n",
      "SESSION 3\n",
      "Train on 12400 samples, validate on 1240 samples\n",
      "Epoch 1/5\n",
      "12400/12400 [==============================] - 756s 61ms/sample - loss: 0.7128 - acc: 0.8149 - val_loss: 1.0741 - val_acc: 0.6677\n",
      "Epoch 2/5\n",
      "12400/12400 [==============================] - 768s 62ms/sample - loss: 0.7163 - acc: 0.8157 - val_loss: 1.1051 - val_acc: 0.6597\n",
      "Epoch 3/5\n",
      "12400/12400 [==============================] - 753s 61ms/sample - loss: 0.7117 - acc: 0.8203 - val_loss: 1.1176 - val_acc: 0.6645\n",
      "Epoch 4/5\n",
      "12400/12400 [==============================] - 769s 62ms/sample - loss: 0.7092 - acc: 0.8270 - val_loss: 1.1451 - val_acc: 0.6661\n",
      "Epoch 5/5\n",
      "12400/12400 [==============================] - 772s 62ms/sample - loss: 0.7583 - acc: 0.8235 - val_loss: 1.2042 - val_acc: 0.6565\n",
      "SESSION 4\n",
      "Train on 12400 samples, validate on 1240 samples\n",
      "Epoch 1/5\n",
      "12400/12400 [==============================] - 753s 61ms/sample - loss: 0.7878 - acc: 0.8258 - val_loss: 1.2905 - val_acc: 0.6427\n",
      "Epoch 2/5\n",
      "12400/12400 [==============================] - 766s 62ms/sample - loss: 0.7782 - acc: 0.8299 - val_loss: 1.2315 - val_acc: 0.6694\n",
      "Epoch 3/5\n",
      "12400/12400 [==============================] - 767s 62ms/sample - loss: 0.7590 - acc: 0.8377 - val_loss: 1.2235 - val_acc: 0.6613\n",
      "Epoch 4/5\n",
      "12400/12400 [==============================] - 772s 62ms/sample - loss: 0.7246 - acc: 0.8426 - val_loss: 1.2208 - val_acc: 0.6621\n",
      "Epoch 5/5\n",
      "12400/12400 [==============================] - 772s 62ms/sample - loss: 0.7001 - acc: 0.8447 - val_loss: 1.2032 - val_acc: 0.6460\n",
      "SESSION 5\n",
      "Train on 12400 samples, validate on 1240 samples\n",
      "Epoch 1/5\n",
      "12400/12400 [==============================] - 768s 62ms/sample - loss: 0.6803 - acc: 0.8510 - val_loss: 1.2644 - val_acc: 0.6355\n",
      "Epoch 2/5\n",
      "12400/12400 [==============================] - 755s 61ms/sample - loss: 0.6686 - acc: 0.8502 - val_loss: 1.1986 - val_acc: 0.6476\n",
      "Epoch 3/5\n",
      "12400/12400 [==============================] - 779s 63ms/sample - loss: 0.6621 - acc: 0.8545 - val_loss: 1.1941 - val_acc: 0.6637\n",
      "Epoch 4/5\n",
      "12400/12400 [==============================] - 772s 62ms/sample - loss: 0.6763 - acc: 0.8540 - val_loss: 1.2259 - val_acc: 0.6315\n",
      "Epoch 5/5\n",
      "12400/12400 [==============================] - 772s 62ms/sample - loss: 0.6733 - acc: 0.8564 - val_loss: 1.2652 - val_acc: 0.6653\n",
      "SESSION 6\n",
      "Train on 12400 samples, validate on 1240 samples\n",
      "Epoch 1/5\n",
      "12400/12400 [==============================] - 768s 62ms/sample - loss: 0.6899 - acc: 0.8544 - val_loss: 1.3464 - val_acc: 0.6363\n",
      "Epoch 2/5\n",
      "12400/12400 [==============================] - 767s 62ms/sample - loss: 0.7078 - acc: 0.8536 - val_loss: 1.2714 - val_acc: 0.6540\n",
      "Epoch 3/5\n",
      "12400/12400 [==============================] - 755s 61ms/sample - loss: 0.7019 - acc: 0.8607 - val_loss: 1.4422 - val_acc: 0.6234\n",
      "Epoch 4/5\n",
      "12400/12400 [==============================] - 774s 62ms/sample - loss: 0.7507 - acc: 0.8542 - val_loss: 1.3604 - val_acc: 0.6516\n",
      "Epoch 5/5\n",
      "12400/12400 [==============================] - 769s 62ms/sample - loss: 0.7431 - acc: 0.8615 - val_loss: 1.3667 - val_acc: 0.6419\n",
      "SESSION 7\n",
      "Train on 12400 samples, validate on 1240 samples\n",
      "Epoch 1/5\n",
      "12400/12400 [==============================] - 769s 62ms/sample - loss: 0.7305 - acc: 0.8616 - val_loss: 1.3083 - val_acc: 0.6581\n",
      "Epoch 2/5\n",
      "12400/12400 [==============================] - 771s 62ms/sample - loss: 0.6726 - acc: 0.8756 - val_loss: 1.2730 - val_acc: 0.6742\n",
      "Epoch 3/5\n",
      "12400/12400 [==============================] - 774s 62ms/sample - loss: 0.6706 - acc: 0.8710 - val_loss: 1.3021 - val_acc: 0.6661\n",
      "Epoch 4/5\n",
      "12400/12400 [==============================] - 772s 62ms/sample - loss: 0.6539 - acc: 0.8739 - val_loss: 1.3438 - val_acc: 0.6355\n",
      "Epoch 5/5\n",
      "12400/12400 [==============================] - 770s 62ms/sample - loss: 0.6627 - acc: 0.8665 - val_loss: 1.3944 - val_acc: 0.6210\n"
     ]
    }
   ],
   "source": [
    "for i in range(8):\n",
    "    print(\"SESSION \" + str(i)) \n",
    "    conv_model2.fit(X_ws_train_ft_all_vectors_tp, y_ws_train_list_short,\n",
    "                   epochs=5, batch_size=20, validation_split=1/11, callbacks=[early_stopping])\n",
    "    conv_model2.save('author_identification_multiconv5_model' + str(i) + '.h5')"
   ]
  },
  {
   "cell_type": "code",
   "execution_count": 381,
   "metadata": {},
   "outputs": [],
   "source": [
    "conv_model2 = tf.keras.models.load_model('author_identification_multiconv2_model1.h5')"
   ]
  },
  {
   "cell_type": "code",
   "execution_count": 389,
   "metadata": {
    "scrolled": true
   },
   "outputs": [
    {
     "name": "stdout",
     "output_type": "stream",
     "text": [
      "SESSION 2\n",
      "Train on 12400 samples, validate on 1240 samples\n",
      "Epoch 1/5\n",
      "12400/12400 [==============================] - 852s 69ms/sample - loss: 0.6209 - acc: 0.8281 - val_loss: 1.0151 - val_acc: 0.6806\n",
      "Epoch 2/5\n",
      "12400/12400 [==============================] - 964s 78ms/sample - loss: 0.6006 - acc: 0.8428 - val_loss: 0.9591 - val_acc: 0.6823\n",
      "Epoch 3/5\n",
      "12400/12400 [==============================] - 1042s 84ms/sample - loss: 0.5900 - acc: 0.8441 - val_loss: 0.9958 - val_acc: 0.6677\n",
      "Epoch 4/5\n",
      "12400/12400 [==============================] - 842s 68ms/sample - loss: 0.5723 - acc: 0.8552 - val_loss: 1.0274 - val_acc: 0.6766\n",
      "Epoch 5/5\n",
      "12400/12400 [==============================] - 823s 66ms/sample - loss: 0.5647 - acc: 0.8643 - val_loss: 1.0167 - val_acc: 0.6815\n",
      "SESSION 3\n",
      "Train on 12400 samples, validate on 1240 samples\n",
      "Epoch 1/5\n",
      "12400/12400 [==============================] - 812s 65ms/sample - loss: 0.5666 - acc: 0.8723 - val_loss: 1.1128 - val_acc: 0.6629\n",
      "Epoch 2/5\n",
      "12400/12400 [==============================] - 845s 68ms/sample - loss: 0.5593 - acc: 0.8802 - val_loss: 1.0915 - val_acc: 0.6694\n",
      "Epoch 3/5\n",
      "12400/12400 [==============================] - 831s 67ms/sample - loss: 0.5831 - acc: 0.8755 - val_loss: 1.1399 - val_acc: 0.6750\n",
      "Epoch 4/5\n",
      "12400/12400 [==============================] - 824s 66ms/sample - loss: 0.6072 - acc: 0.8793 - val_loss: 1.1883 - val_acc: 0.6637\n",
      "Epoch 5/5\n",
      "12400/12400 [==============================] - 984s 79ms/sample - loss: 0.5726 - acc: 0.8895 - val_loss: 1.2259 - val_acc: 0.6540\n",
      "SESSION 4\n",
      "Train on 12400 samples, validate on 1240 samples\n",
      "Epoch 1/5\n",
      "12400/12400 [==============================] - 1046s 84ms/sample - loss: 0.5593 - acc: 0.8916 - val_loss: 1.1514 - val_acc: 0.6758\n",
      "Epoch 2/5\n",
      "12400/12400 [==============================] - 1017s 82ms/sample - loss: 0.5164 - acc: 0.9025 - val_loss: 1.1577 - val_acc: 0.6847\n",
      "Epoch 3/5\n",
      "12400/12400 [==============================] - 1007s 81ms/sample - loss: 0.5121 - acc: 0.9035 - val_loss: 1.1557 - val_acc: 0.6669\n",
      "Epoch 4/5\n",
      "12400/12400 [==============================] - 957s 77ms/sample - loss: 0.4780 - acc: 0.9110 - val_loss: 1.1818 - val_acc: 0.6750\n",
      "Epoch 5/5\n",
      "12400/12400 [==============================] - 898s 72ms/sample - loss: 0.4788 - acc: 0.9092 - val_loss: 1.1616 - val_acc: 0.6677\n",
      "SESSION 5\n",
      "Train on 12400 samples, validate on 1240 samples\n",
      "Epoch 1/5\n",
      "12400/12400 [==============================] - 924s 75ms/sample - loss: 0.4831 - acc: 0.9094 - val_loss: 1.1818 - val_acc: 0.6669\n",
      "Epoch 2/5\n",
      "12400/12400 [==============================] - 935s 75ms/sample - loss: 0.5066 - acc: 0.9090 - val_loss: 1.2256 - val_acc: 0.6702\n",
      "Epoch 3/5\n",
      "12400/12400 [==============================] - 1011s 81ms/sample - loss: 0.4963 - acc: 0.9160 - val_loss: 1.2544 - val_acc: 0.6621\n",
      "Epoch 4/5\n",
      "12400/12400 [==============================] - 1364s 110ms/sample - loss: 0.5138 - acc: 0.9106 - val_loss: 1.2414 - val_acc: 0.6734\n",
      "Epoch 5/5\n",
      "12400/12400 [==============================] - 1286s 104ms/sample - loss: 0.5067 - acc: 0.9160 - val_loss: 1.2362 - val_acc: 0.6613\n",
      "SESSION 6\n",
      "Train on 12400 samples, validate on 1240 samples\n",
      "Epoch 1/5\n",
      " 5760/12400 [============>.................] - ETA: 11:44 - loss: 0.4576 - acc: 0.9323"
     ]
    },
    {
     "ename": "KeyboardInterrupt",
     "evalue": "",
     "output_type": "error",
     "traceback": [
      "\u001b[1;31m---------------------------------------------------------------------------\u001b[0m",
      "\u001b[1;31mKeyboardInterrupt\u001b[0m                         Traceback (most recent call last)",
      "\u001b[1;32m<ipython-input-389-53b81ba02d0c>\u001b[0m in \u001b[0;36m<module>\u001b[1;34m\u001b[0m\n\u001b[0;32m      2\u001b[0m     \u001b[0mprint\u001b[0m\u001b[1;33m(\u001b[0m\u001b[1;34m\"SESSION \"\u001b[0m \u001b[1;33m+\u001b[0m \u001b[0mstr\u001b[0m\u001b[1;33m(\u001b[0m\u001b[0mi\u001b[0m\u001b[1;33m)\u001b[0m\u001b[1;33m)\u001b[0m\u001b[1;33m\u001b[0m\u001b[1;33m\u001b[0m\u001b[0m\n\u001b[0;32m      3\u001b[0m     conv_model2.fit(X_ws_train_ft_all_vectors_tp, y_ws_train_list_short,\n\u001b[1;32m----> 4\u001b[1;33m                    epochs=5, batch_size=20, validation_split=1/11)\n\u001b[0m\u001b[0;32m      5\u001b[0m     \u001b[0mconv_model2\u001b[0m\u001b[1;33m.\u001b[0m\u001b[0msave\u001b[0m\u001b[1;33m(\u001b[0m\u001b[1;34m'author_identification_multiconv2_model'\u001b[0m \u001b[1;33m+\u001b[0m \u001b[0mstr\u001b[0m\u001b[1;33m(\u001b[0m\u001b[0mi\u001b[0m\u001b[1;33m)\u001b[0m \u001b[1;33m+\u001b[0m \u001b[1;34m'.h5'\u001b[0m\u001b[1;33m)\u001b[0m\u001b[1;33m\u001b[0m\u001b[1;33m\u001b[0m\u001b[0m\n",
      "\u001b[1;32m~\\anaconda3\\lib\\site-packages\\tensorflow\\python\\keras\\engine\\training.py\u001b[0m in \u001b[0;36mfit\u001b[1;34m(self, x, y, batch_size, epochs, verbose, callbacks, validation_split, validation_data, shuffle, class_weight, sample_weight, initial_epoch, steps_per_epoch, validation_steps, validation_freq, max_queue_size, workers, use_multiprocessing, **kwargs)\u001b[0m\n\u001b[0;32m    778\u001b[0m           \u001b[0mvalidation_steps\u001b[0m\u001b[1;33m=\u001b[0m\u001b[0mvalidation_steps\u001b[0m\u001b[1;33m,\u001b[0m\u001b[1;33m\u001b[0m\u001b[1;33m\u001b[0m\u001b[0m\n\u001b[0;32m    779\u001b[0m           \u001b[0mvalidation_freq\u001b[0m\u001b[1;33m=\u001b[0m\u001b[0mvalidation_freq\u001b[0m\u001b[1;33m,\u001b[0m\u001b[1;33m\u001b[0m\u001b[1;33m\u001b[0m\u001b[0m\n\u001b[1;32m--> 780\u001b[1;33m           steps_name='steps_per_epoch')\n\u001b[0m\u001b[0;32m    781\u001b[0m \u001b[1;33m\u001b[0m\u001b[0m\n\u001b[0;32m    782\u001b[0m   def evaluate(self,\n",
      "\u001b[1;32m~\\anaconda3\\lib\\site-packages\\tensorflow\\python\\keras\\engine\\training_arrays.py\u001b[0m in \u001b[0;36mmodel_iteration\u001b[1;34m(model, inputs, targets, sample_weights, batch_size, epochs, verbose, callbacks, val_inputs, val_targets, val_sample_weights, shuffle, initial_epoch, steps_per_epoch, validation_steps, validation_freq, mode, validation_in_fit, prepared_feed_values_from_dataset, steps_name, **kwargs)\u001b[0m\n\u001b[0;32m    361\u001b[0m \u001b[1;33m\u001b[0m\u001b[0m\n\u001b[0;32m    362\u001b[0m         \u001b[1;31m# Get outputs.\u001b[0m\u001b[1;33m\u001b[0m\u001b[1;33m\u001b[0m\u001b[1;33m\u001b[0m\u001b[0m\n\u001b[1;32m--> 363\u001b[1;33m         \u001b[0mbatch_outs\u001b[0m \u001b[1;33m=\u001b[0m \u001b[0mf\u001b[0m\u001b[1;33m(\u001b[0m\u001b[0mins_batch\u001b[0m\u001b[1;33m)\u001b[0m\u001b[1;33m\u001b[0m\u001b[1;33m\u001b[0m\u001b[0m\n\u001b[0m\u001b[0;32m    364\u001b[0m         \u001b[1;32mif\u001b[0m \u001b[1;32mnot\u001b[0m \u001b[0misinstance\u001b[0m\u001b[1;33m(\u001b[0m\u001b[0mbatch_outs\u001b[0m\u001b[1;33m,\u001b[0m \u001b[0mlist\u001b[0m\u001b[1;33m)\u001b[0m\u001b[1;33m:\u001b[0m\u001b[1;33m\u001b[0m\u001b[1;33m\u001b[0m\u001b[0m\n\u001b[0;32m    365\u001b[0m           \u001b[0mbatch_outs\u001b[0m \u001b[1;33m=\u001b[0m \u001b[1;33m[\u001b[0m\u001b[0mbatch_outs\u001b[0m\u001b[1;33m]\u001b[0m\u001b[1;33m\u001b[0m\u001b[1;33m\u001b[0m\u001b[0m\n",
      "\u001b[1;32m~\\anaconda3\\lib\\site-packages\\tensorflow\\python\\keras\\backend.py\u001b[0m in \u001b[0;36m__call__\u001b[1;34m(self, inputs)\u001b[0m\n\u001b[0;32m   3290\u001b[0m \u001b[1;33m\u001b[0m\u001b[0m\n\u001b[0;32m   3291\u001b[0m     fetched = self._callable_fn(*array_vals,\n\u001b[1;32m-> 3292\u001b[1;33m                                 run_metadata=self.run_metadata)\n\u001b[0m\u001b[0;32m   3293\u001b[0m     \u001b[0mself\u001b[0m\u001b[1;33m.\u001b[0m\u001b[0m_call_fetch_callbacks\u001b[0m\u001b[1;33m(\u001b[0m\u001b[0mfetched\u001b[0m\u001b[1;33m[\u001b[0m\u001b[1;33m-\u001b[0m\u001b[0mlen\u001b[0m\u001b[1;33m(\u001b[0m\u001b[0mself\u001b[0m\u001b[1;33m.\u001b[0m\u001b[0m_fetches\u001b[0m\u001b[1;33m)\u001b[0m\u001b[1;33m:\u001b[0m\u001b[1;33m]\u001b[0m\u001b[1;33m)\u001b[0m\u001b[1;33m\u001b[0m\u001b[1;33m\u001b[0m\u001b[0m\n\u001b[0;32m   3294\u001b[0m     output_structure = nest.pack_sequence_as(\n",
      "\u001b[1;32m~\\anaconda3\\lib\\site-packages\\tensorflow\\python\\client\\session.py\u001b[0m in \u001b[0;36m__call__\u001b[1;34m(self, *args, **kwargs)\u001b[0m\n\u001b[0;32m   1456\u001b[0m         ret = tf_session.TF_SessionRunCallable(self._session._session,\n\u001b[0;32m   1457\u001b[0m                                                \u001b[0mself\u001b[0m\u001b[1;33m.\u001b[0m\u001b[0m_handle\u001b[0m\u001b[1;33m,\u001b[0m \u001b[0margs\u001b[0m\u001b[1;33m,\u001b[0m\u001b[1;33m\u001b[0m\u001b[1;33m\u001b[0m\u001b[0m\n\u001b[1;32m-> 1458\u001b[1;33m                                                run_metadata_ptr)\n\u001b[0m\u001b[0;32m   1459\u001b[0m         \u001b[1;32mif\u001b[0m \u001b[0mrun_metadata\u001b[0m\u001b[1;33m:\u001b[0m\u001b[1;33m\u001b[0m\u001b[1;33m\u001b[0m\u001b[0m\n\u001b[0;32m   1460\u001b[0m           \u001b[0mproto_data\u001b[0m \u001b[1;33m=\u001b[0m \u001b[0mtf_session\u001b[0m\u001b[1;33m.\u001b[0m\u001b[0mTF_GetBuffer\u001b[0m\u001b[1;33m(\u001b[0m\u001b[0mrun_metadata_ptr\u001b[0m\u001b[1;33m)\u001b[0m\u001b[1;33m\u001b[0m\u001b[1;33m\u001b[0m\u001b[0m\n",
      "\u001b[1;31mKeyboardInterrupt\u001b[0m: "
     ]
    }
   ],
   "source": [
    "for i in range(2,8):\n",
    "    print(\"SESSION \" + str(i)) \n",
    "    conv_model2.fit(X_ws_train_ft_all_vectors_tp, y_ws_train_list_short,\n",
    "                   epochs=5, batch_size=20, validation_split=1/11, callbacks=[early_stopping])\n",
    "    conv_model2.save('author_identification_multiconv2_model' + str(i) + '.h5')"
   ]
  },
  {
   "cell_type": "code",
   "execution_count": 390,
   "metadata": {},
   "outputs": [],
   "source": [
    "conv_model2 = tf.keras.models.load_model('author_identification_multiconv2_model5.h5')"
   ]
  },
  {
   "cell_type": "markdown",
   "metadata": {},
   "source": [
    "Saving and evaluating the best models:"
   ]
  },
  {
   "cell_type": "code",
   "execution_count": 382,
   "metadata": {},
   "outputs": [],
   "source": [
    "with open('X_ws_train_ft_all_vectors.npy', 'wb') as f:\n",
    "    np.save(f, X_ws_train_ft_all_vectors)\n",
    "with open('X_ws_train_ft_all_vectors_tp.npy', 'wb') as f:\n",
    "    np.save(f, X_ws_train_ft_all_vectors_tp)\n",
    "with open('y_ws_train_list_short.npy', 'wb') as f:\n",
    "    np.save(f, y_ws_train_list_short)\n",
    "with open('X_ws_valid_ft_all_vectors.npy', 'wb') as f:\n",
    "    np.save(f, X_ws_valid_ft_all_vectors)\n",
    "with open('X_ws_valid_ft_all_vectors_tp.npy', 'wb') as f:\n",
    "    np.save(f, X_ws_valid_ft_all_vectors_tp)\n",
    "with open('y_ws_valid_list_short.npy', 'wb') as f:\n",
    "    np.save(f, y_ws_valid_list_short)"
   ]
  },
  {
   "cell_type": "code",
   "execution_count": 365,
   "metadata": {},
   "outputs": [
    {
     "name": "stdout",
     "output_type": "stream",
     "text": [
      "5850/5850 [==============================] - 172s 29ms/sample - loss: 1.0111 - acc: 0.5489\n"
     ]
    },
    {
     "data": {
      "text/plain": [
       "[1.0110511044151762, 0.54888886]"
      ]
     },
     "execution_count": 365,
     "metadata": {},
     "output_type": "execute_result"
    }
   ],
   "source": [
    "conv_model.evaluate(X_ws_valid_ft_all_vectors, y_ws_valid_list_short)"
   ]
  },
  {
   "cell_type": "code",
   "execution_count": 65,
   "metadata": {},
   "outputs": [
    {
     "name": "stdout",
     "output_type": "stream",
     "text": [
      "5850/5850 [==============================] - 139s 24ms/sample - loss: 1.2855 - acc: 0.6586\n"
     ]
    },
    {
     "data": {
      "text/plain": [
       "[1.2854968482612545, 0.65863246]"
      ]
     },
     "execution_count": 65,
     "metadata": {},
     "output_type": "execute_result"
    }
   ],
   "source": [
    "conv_model2.evaluate(X_ws_valid_ft_all_vectors_tp, y_ws_valid_list_short)"
   ]
  },
  {
   "cell_type": "code",
   "execution_count": 64,
   "metadata": {},
   "outputs": [
    {
     "name": "stdout",
     "output_type": "stream",
     "text": [
      "WARNING:tensorflow:From C:\\Users\\AMD\\anaconda3\\lib\\site-packages\\tensorflow\\python\\ops\\init_ops.py:97: calling GlorotUniform.__init__ (from tensorflow.python.ops.init_ops) with dtype is deprecated and will be removed in a future version.\n",
      "Instructions for updating:\n",
      "Call initializer instance with the dtype argument instead of passing it to the constructor\n",
      "WARNING:tensorflow:From C:\\Users\\AMD\\anaconda3\\lib\\site-packages\\tensorflow\\python\\ops\\init_ops.py:97: calling Zeros.__init__ (from tensorflow.python.ops.init_ops) with dtype is deprecated and will be removed in a future version.\n",
      "Instructions for updating:\n",
      "Call initializer instance with the dtype argument instead of passing it to the constructor\n",
      "WARNING:tensorflow:Large dropout rate: 0.78 (>0.5). In TensorFlow 2.x, dropout() uses dropout rate instead of keep_prob. Please ensure that this is intended.\n"
     ]
    }
   ],
   "source": [
    "saved_model = tf.keras.models.load_model('author_identification_conv_model5.h5')"
   ]
  },
  {
   "cell_type": "code",
   "execution_count": 65,
   "metadata": {},
   "outputs": [
    {
     "name": "stdout",
     "output_type": "stream",
     "text": [
      "5850/5850 [==============================] - 96s 16ms/sample - loss: 1.8320 - acc: 0.6631\n"
     ]
    },
    {
     "data": {
      "text/plain": [
       "[1.831972486137325, 0.66307694]"
      ]
     },
     "execution_count": 65,
     "metadata": {},
     "output_type": "execute_result"
    }
   ],
   "source": [
    "saved_model.evaluate(X_ws_valid_ft_all_vectors, y_ws_valid_list_short)"
   ]
  },
  {
   "cell_type": "code",
   "execution_count": 66,
   "metadata": {},
   "outputs": [],
   "source": [
    "saved_model2 = tf.keras.models.load_model('author_identification_multiconv2_model1.h5')"
   ]
  },
  {
   "cell_type": "code",
   "execution_count": 67,
   "metadata": {},
   "outputs": [
    {
     "name": "stdout",
     "output_type": "stream",
     "text": [
      "5850/5850 [==============================] - 136s 23ms/sample - loss: 0.9301 - acc: 0.6846\n"
     ]
    },
    {
     "data": {
      "text/plain": [
       "[0.9301234719692132, 0.6846154]"
      ]
     },
     "execution_count": 67,
     "metadata": {},
     "output_type": "execute_result"
    }
   ],
   "source": [
    "saved_model2.evaluate(X_ws_valid_ft_all_vectors_tp, y_ws_valid_list_short)"
   ]
  },
  {
   "cell_type": "code",
   "execution_count": null,
   "metadata": {},
   "outputs": [],
   "source": []
  }
 ],
 "metadata": {
  "colab": {
   "collapsed_sections": [],
   "name": "own_neural_net.ipynb",
   "provenance": [
    {
     "file_id": "1VnDOKC283AoAK0o_R0CxGI4UdfV4xfIi",
     "timestamp": 1605543039444
    }
   ]
  },
  "kernelspec": {
   "display_name": "Python 3",
   "language": "python",
   "name": "python3"
  },
  "language_info": {
   "codemirror_mode": {
    "name": "ipython",
    "version": 3
   },
   "file_extension": ".py",
   "mimetype": "text/x-python",
   "name": "python",
   "nbconvert_exporter": "python",
   "pygments_lexer": "ipython3",
   "version": "3.7.7"
  }
 },
 "nbformat": 4,
 "nbformat_minor": 1
}
