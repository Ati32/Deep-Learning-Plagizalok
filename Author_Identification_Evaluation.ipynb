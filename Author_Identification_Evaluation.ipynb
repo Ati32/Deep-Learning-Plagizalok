{
  "nbformat": 4,
  "nbformat_minor": 0,
  "metadata": {
    "kernelspec": {
      "display_name": "Python 3",
      "language": "python",
      "name": "python3"
    },
    "language_info": {
      "codemirror_mode": {
        "name": "ipython",
        "version": 3
      },
      "file_extension": ".py",
      "mimetype": "text/x-python",
      "name": "python",
      "nbconvert_exporter": "python",
      "pygments_lexer": "ipython3",
      "version": "3.7.7"
    },
    "colab": {
      "name": "Author_Identification_Evaluation.ipynb",
      "provenance": [],
      "collapsed_sections": []
    }
  },
  "cells": [
    {
      "cell_type": "code",
      "metadata": {
        "id": "3whMT7zcMLNs",
        "colab": {
          "base_uri": "https://localhost:8080/"
        },
        "outputId": "d12d28c9-6f8a-428c-e778-1fbde9f085dd"
      },
      "source": [
        "import warnings\n",
        "warnings.filterwarnings('ignore')\n",
        "\n",
        "from numpy.random import seed\n",
        "seed(1)\n",
        "\n",
        "import numpy as np\n",
        "import pandas as pd\n",
        "import seaborn as sns\n",
        "import matplotlib.pyplot as plt\n",
        "from wordcloud import WordCloud, STOPWORDS\n",
        "from nltk.tokenize import sent_tokenize,word_tokenize\n",
        "from sklearn.model_selection import train_test_split\n",
        "from sklearn.metrics import accuracy_score, confusion_matrix\n",
        "import nltk\n",
        "from nltk.corpus import stopwords\n",
        "\n",
        "from gensim.test.utils import common_texts\n",
        "from gensim.models.doc2vec import Doc2Vec, TaggedDocument\n",
        "\n",
        "import tensorflow as tf\n",
        "from keras.models import Sequential, Model\n",
        "from keras.layers import Dense, Dropout\n",
        "from keras.layers import Conv1D, MaxPooling1D, GlobalMaxPooling1D\n",
        "from keras.layers import Conv2D, MaxPooling2D\n",
        "from tensorflow.keras import regularizers\n",
        "from tensorflow.keras.optimizers import Adam\n",
        "from tensorflow.keras.utils import plot_model\n",
        "from keras.callbacks import EarlyStopping\n",
        "\n",
        "from sklearn.preprocessing import StandardScaler\n",
        "\n",
        "import pickle\n",
        "from tqdm import tqdm\n",
        "\n",
        "nltk.download('punkt')\n",
        "nltk.download('stopwords')\n",
        "random_state = 7\n",
        "cutoff = 100\n",
        "vec_length = 300"
      ],
      "execution_count": 12,
      "outputs": [
        {
          "output_type": "stream",
          "text": [
            "[nltk_data] Downloading package punkt to /root/nltk_data...\n",
            "[nltk_data]   Package punkt is already up-to-date!\n",
            "[nltk_data] Downloading package stopwords to /root/nltk_data...\n",
            "[nltk_data]   Package stopwords is already up-to-date!\n"
          ],
          "name": "stdout"
        }
      ]
    },
    {
      "cell_type": "code",
      "metadata": {
        "collapsed": true,
        "id": "2pzszTovMLN4"
      },
      "source": [
        "cnn_model = tf.keras.models.load_model('author_identification_multiconv_model.h5')"
      ],
      "execution_count": 19,
      "outputs": []
    },
    {
      "cell_type": "code",
      "metadata": {
        "id": "qgI6WntGMLN5"
      },
      "source": [
        "stop_words = set(stopwords.words('english')).union(set([',','.','?','!',':',';',\"'\",'\"','-',\"''\",\"`\",\"``\"]))\n",
        "author_dict = {'EAP': 0, 'HPL': 1, 'MWS': 2}\n",
        "reverse_author_dict = {0: 'Edgar Allan Poe', 1: 'HP Lovecraft', 2: 'Mary Shelley'}"
      ],
      "execution_count": 20,
      "outputs": []
    },
    {
      "cell_type": "code",
      "metadata": {
        "id": "hoUaHQ--DQHZ"
      },
      "source": [
        "train = pd.read_csv('train.csv')\r\n",
        "test = pd.read_csv('test.csv')\r\n",
        "\r\n",
        "with open(\"fasttext_vectors.pickle\", 'rb') as f:\r\n",
        "    fasttext_vectors = pickle.load(f)"
      ],
      "execution_count": null,
      "outputs": []
    },
    {
      "cell_type": "code",
      "metadata": {
        "id": "Dk6oD4lAMLN6"
      },
      "source": [
        "def shorten_sentence(s,length):\n",
        "    word_tokens = word_tokenize(s.lower())\n",
        "    res = [w for w in word_tokens if not w in stop_words]\n",
        "    return res[:length]"
      ],
      "execution_count": 23,
      "outputs": []
    },
    {
      "cell_type": "code",
      "metadata": {
        "id": "bykZDOXpMLN7"
      },
      "source": [
        "def sentence_to_vec(s, vec_length, cutoff):\n",
        "\n",
        "    short_s = shorten_sentence(s, cutoff)\n",
        "    add_vectors = np.empty([cutoff, vec_length])\n",
        "    sentence_length = len(short_s) + 1\n",
        "        \n",
        "    for i in range(cutoff):\n",
        "        cur_split_sentence = short_s + [' ']\n",
        "        try:\n",
        "            add_vectors[i] = fasttext_vectors.wv[cur_split_sentence[i % sentence_length]]\n",
        "        except KeyError:\n",
        "            add_vectors[i] = np.zeros(vec_length)\n",
        "    \n",
        "    return np.array([np.transpose(np.array(add_vectors),axes=(1,0))])"
      ],
      "execution_count": 24,
      "outputs": []
    },
    {
      "cell_type": "code",
      "metadata": {
        "id": "A2SrRSpoMLN8"
      },
      "source": [
        "def who_wrote(s,print_percentages=False):\n",
        "    result = cnn_model.predict(sentence_to_vec(s, vec_length, cutoff))\n",
        "    if print_percentages:\n",
        "        print(', '.join([reverse_author_dict[i] + ': ' + str(round(result[0][i] * 100,2)) + '%' for i in range(3)]))\n",
        "        print('Result: ', reverse_author_dict[np.argmax(result)])\n",
        "    else:\n",
        "        print(reverse_author_dict[np.argmax(result)])"
      ],
      "execution_count": 25,
      "outputs": []
    },
    {
      "cell_type": "code",
      "metadata": {
        "id": "0RvvEc9CMLN8",
        "colab": {
          "base_uri": "https://localhost:8080/"
        },
        "outputId": "8f68dbe1-6a48-4bd0-9023-c730de044264"
      },
      "source": [
        "who_wrote('Take this kiss upon the brow!',True)"
      ],
      "execution_count": 26,
      "outputs": [
        {
          "output_type": "stream",
          "text": [
            "Edgar Allan Poe: 89.73%, HP Lovecraft: 0.03%, Mary Shelley: 10.24%\n",
            "Result:  Edgar Allan Poe\n"
          ],
          "name": "stdout"
        }
      ]
    },
    {
      "cell_type": "code",
      "metadata": {
        "colab": {
          "base_uri": "https://localhost:8080/"
        },
        "id": "kcv5-fkaVvYF",
        "outputId": "78760820-fe46-4a54-c943-6acb4c7c024b"
      },
      "source": [
        "who_wrote('If a fire wanted fanning, it could readily be fanned with a newspaper.',True)"
      ],
      "execution_count": 27,
      "outputs": [
        {
          "output_type": "stream",
          "text": [
            "Edgar Allan Poe: 2.51%, HP Lovecraft: 32.9%, Mary Shelley: 64.59%\n",
            "Result:  Mary Shelley\n"
          ],
          "name": "stdout"
        }
      ]
    },
    {
      "cell_type": "code",
      "metadata": {
        "id": "cTlDgzR_MLN9",
        "colab": {
          "base_uri": "https://localhost:8080/"
        },
        "outputId": "ff95bfd5-5278-43ec-d955-6e55db8d271d"
      },
      "source": [
        "who_wrote('He shall find that I can feel my injuries; he shall learn to dread my revenge\" A few days after he arrived.',True)"
      ],
      "execution_count": 28,
      "outputs": [
        {
          "output_type": "stream",
          "text": [
            "Edgar Allan Poe: 0.47%, HP Lovecraft: 5.76%, Mary Shelley: 93.77%\n",
            "Result:  Mary Shelley\n"
          ],
          "name": "stdout"
        }
      ]
    },
    {
      "cell_type": "code",
      "metadata": {
        "id": "aZYPyLm3MLN9",
        "colab": {
          "base_uri": "https://localhost:8080/"
        },
        "outputId": "f51b239a-26f9-49fb-fb74-2a7fb112d81d"
      },
      "source": [
        "who_wrote('What though their hireling Greaser bands',True)"
      ],
      "execution_count": 29,
      "outputs": [
        {
          "output_type": "stream",
          "text": [
            "Edgar Allan Poe: 6.08%, HP Lovecraft: 93.4%, Mary Shelley: 0.53%\n",
            "Result:  HP Lovecraft\n"
          ],
          "name": "stdout"
        }
      ]
    },
    {
      "cell_type": "code",
      "metadata": {
        "id": "KLFcVXrsMLN-",
        "colab": {
          "base_uri": "https://localhost:8080/"
        },
        "outputId": "ed304142-2334-4590-d532-87051a46c2fc"
      },
      "source": [
        "who_wrote('Cthulhu',True)"
      ],
      "execution_count": 30,
      "outputs": [
        {
          "output_type": "stream",
          "text": [
            "Edgar Allan Poe: 14.94%, HP Lovecraft: 84.55%, Mary Shelley: 0.51%\n",
            "Result:  HP Lovecraft\n"
          ],
          "name": "stdout"
        }
      ]
    },
    {
      "cell_type": "code",
      "metadata": {
        "id": "Rj8YcPDmMLN-",
        "colab": {
          "base_uri": "https://localhost:8080/"
        },
        "outputId": "226602e5-c64f-40ef-aa7c-c224d10ea16b"
      },
      "source": [
        "who_wrote('Time and time again',True)"
      ],
      "execution_count": 31,
      "outputs": [
        {
          "output_type": "stream",
          "text": [
            "Edgar Allan Poe: 95.74%, HP Lovecraft: 2.84%, Mary Shelley: 1.43%\n",
            "Result:  Edgar Allan Poe\n"
          ],
          "name": "stdout"
        }
      ]
    },
    {
      "cell_type": "code",
      "metadata": {
        "id": "DxAIBPf-MLN_",
        "colab": {
          "base_uri": "https://localhost:8080/"
        },
        "outputId": "b6444ae1-3909-47cc-a646-58415ba4700a"
      },
      "source": [
        "who_wrote(\"Oh, come to me in dreams, my love!\",True)"
      ],
      "execution_count": 32,
      "outputs": [
        {
          "output_type": "stream",
          "text": [
            "Edgar Allan Poe: 1.7%, HP Lovecraft: 8.03%, Mary Shelley: 90.27%\n",
            "Result:  Mary Shelley\n"
          ],
          "name": "stdout"
        }
      ]
    },
    {
      "cell_type": "code",
      "metadata": {
        "colab": {
          "base_uri": "https://localhost:8080/"
        },
        "id": "42HKJnnkD4D1",
        "outputId": "7176c2f1-f326-4e54-f592-68599b4a7e0d"
      },
      "source": [
        "who_wrote(\"Oh, come to me in dreams, my love!\",True)"
      ],
      "execution_count": 33,
      "outputs": [
        {
          "output_type": "stream",
          "text": [
            "Edgar Allan Poe: 1.7%, HP Lovecraft: 8.03%, Mary Shelley: 90.27%\n",
            "Result:  Mary Shelley\n"
          ],
          "name": "stdout"
        }
      ]
    },
    {
      "cell_type": "code",
      "metadata": {
        "id": "g3djUuExWV6N",
        "colab": {
          "base_uri": "https://localhost:8080/"
        },
        "outputId": "42a792aa-bfb7-44b9-bbbc-d017f203aadb"
      },
      "source": [
        "who_wrote(\"His soul overflowed with ardent affections, and his friendship was of that devoted and wondrous nature that the world minded teach us to look for only in the imagination.\",True)"
      ],
      "execution_count": 34,
      "outputs": [
        {
          "output_type": "stream",
          "text": [
            "Edgar Allan Poe: 0.6%, HP Lovecraft: 0.2%, Mary Shelley: 99.2%\n",
            "Result:  Mary Shelley\n"
          ],
          "name": "stdout"
        }
      ]
    },
    {
      "cell_type": "code",
      "metadata": {
        "colab": {
          "base_uri": "https://localhost:8080/"
        },
        "id": "h5leCq2TWZS-",
        "outputId": "e56d146a-4a9a-432f-8891-b4197569c772"
      },
      "source": [
        "who_wrote(\"These bizarre attempts at explanation were followed by others equally bizarre.\",True)"
      ],
      "execution_count": 36,
      "outputs": [
        {
          "output_type": "stream",
          "text": [
            "Edgar Allan Poe: 9.86%, HP Lovecraft: 89.88%, Mary Shelley: 0.26%\n",
            "Result:  HP Lovecraft\n"
          ],
          "name": "stdout"
        }
      ]
    },
    {
      "cell_type": "code",
      "metadata": {
        "id": "kg4Ys6ChWd25"
      },
      "source": [
        ""
      ],
      "execution_count": null,
      "outputs": []
    }
  ]
}